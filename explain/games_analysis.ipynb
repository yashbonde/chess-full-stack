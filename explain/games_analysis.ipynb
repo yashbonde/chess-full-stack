{
 "cells": [
  {
   "cell_type": "code",
   "execution_count": 32,
   "metadata": {},
   "outputs": [],
   "source": [
    "import io\n",
    "import os\n",
    "import json\n",
    "from tqdm import tqdm\n",
    "import chess\n",
    "import numpy as np\n",
    "from chess.pgn import read_game\n",
    "from collections import Counter\n",
    "import matplotlib.pyplot as plt\n",
    "%matplotlib inline"
   ]
  },
  {
   "cell_type": "code",
   "execution_count": 2,
   "metadata": {},
   "outputs": [],
   "source": [
    "all_files = []\n",
    "for root, _, subpaths in os.walk('games_data_pgns/'):\n",
    "    for sp in subpaths:\n",
    "        if sp[-3:] == 'pgn':\n",
    "            all_files.append(root + '/' + sp)"
   ]
  },
  {
   "cell_type": "code",
   "execution_count": 3,
   "metadata": {},
   "outputs": [
    {
     "name": "stdout",
     "output_type": "stream",
     "text": [
      "Total Files to analyse: 1428\n"
     ]
    }
   ],
   "source": [
    "print('Total Files to analyse:', len(all_files))"
   ]
  },
  {
   "cell_type": "code",
   "execution_count": 4,
   "metadata": {},
   "outputs": [],
   "source": [
    "total_games_count = 0\n",
    "all_games_meta = []\n",
    "duplicate_games_count = 0"
   ]
  },
  {
   "cell_type": "code",
   "execution_count": 5,
   "metadata": {},
   "outputs": [
    {
     "data": {
      "text/plain": [
       "'games_data_pgns/openings/RuyLopezAntiMarshall.pgn'"
      ]
     },
     "execution_count": 5,
     "metadata": {},
     "output_type": "execute_result"
    }
   ],
   "source": [
    "all_files[0]"
   ]
  },
  {
   "cell_type": "code",
   "execution_count": 6,
   "metadata": {},
   "outputs": [],
   "source": [
    "games = read_game(open('games_data_pgns/openings/RuyLopezAntiMarshall.pgn'))"
   ]
  },
  {
   "cell_type": "code",
   "execution_count": 97,
   "metadata": {},
   "outputs": [],
   "source": [
    "def count_games(fpath):\n",
    "    count = 0\n",
    "    all_lines = open(fpath, 'r', encoding='latin').readlines()\n",
    "    this_game = ''\n",
    "    for line_idx, line in enumerate(all_lines):\n",
    "        this_game += line\n",
    "        if line.split() and line.split()[-1] in ['0-1', '1-0', '1/2-1/2']:\n",
    "            count += 1\n",
    "            this_game = ''\n",
    "    return count\n",
    "\n",
    "def load_data(fpath, ret_len=False):\n",
    "    game_strings = []\n",
    "#     print(fpath)\n",
    "    all_lines = open(fpath, 'r', encoding='latin').readlines()\n",
    "    this_game = ''\n",
    "    for line_idx, line in enumerate(all_lines):\n",
    "        this_game += line\n",
    "        if line.split() and line.split()[-1] in ['0-1', '1-0', '1/2-1/2']:\n",
    "            game_strings.append(str(this_game))\n",
    "            this_game = ''\n",
    "    if ret_len:\n",
    "        return len(game_strings)\n",
    "    game_headers = [read_game(io.StringIO(gs)).headers for gs in game_strings]\n",
    "    return game_headers"
   ]
  },
  {
   "cell_type": "code",
   "execution_count": 98,
   "metadata": {},
   "outputs": [
    {
     "name": "stderr",
     "output_type": "stream",
     "text": [
      "100%|██████████| 1428/1428 [00:52<00:00, 27.15it/s] "
     ]
    },
    {
     "name": "stdout",
     "output_type": "stream",
     "text": [
      "\n"
     ]
    },
    {
     "name": "stderr",
     "output_type": "stream",
     "text": [
      "\n"
     ]
    }
   ],
   "source": [
    "all_games_count = 0\n",
    "for idx in tqdm(range(len(all_files))):\n",
    "    all_games_count += count_games(all_files[idx])"
   ]
  },
  {
   "cell_type": "code",
   "execution_count": 99,
   "metadata": {},
   "outputs": [
    {
     "name": "stdout",
     "output_type": "stream",
     "text": [
      "Total Number of Games (possible duplicates) 3112358\n"
     ]
    }
   ],
   "source": [
    "print('Total Number of Games (possible duplicates)', all_games_count)"
   ]
  },
  {
   "cell_type": "code",
   "execution_count": 8,
   "metadata": {},
   "outputs": [
    {
     "name": "stderr",
     "output_type": "stream",
     "text": [
      "100%|██████████| 1428/1428 [04:39<00:00,  5.10it/s] \n"
     ]
    }
   ],
   "source": [
    "all_games = []\n",
    "for idx in tqdm(range(len(all_files))):\n",
    "#     print(all_files[idx])\n",
    "    if 'events' in all_files[idx]:\n",
    "        all_games.extend(load_data(all_files[idx]))"
   ]
  },
  {
   "cell_type": "code",
   "execution_count": 76,
   "metadata": {},
   "outputs": [],
   "source": [
    "years = [] # this is the list for all the things that happened year on year\n",
    "white_elos = []\n",
    "black_elos = []\n",
    "results = []\n",
    "\n",
    "unavain = []\n",
    "for game in all_games:\n",
    "    year = game['Date'].split('.')[0] if 'Date' in game else 0\n",
    "    year = 0 if year == '????' else int(year)\n",
    "    be = int(game['BlackElo']) if 'BlackElo' in game and game['BlackElo'] else 0\n",
    "    we = int(game['WhiteElo']) if 'WhiteElo' in game and game['WhiteElo'] else 0\n",
    "    \n",
    "    years.append(year)\n",
    "    white_elos.append(we)\n",
    "    black_elos.append(be)\n",
    "    results.append(game['Result'])"
   ]
  },
  {
   "cell_type": "code",
   "execution_count": 77,
   "metadata": {},
   "outputs": [],
   "source": [
    "cnt_years = Counter(years)\n",
    "cnt_white_elos = Counter(white_elos)\n",
    "cnt_black_elos = Counter(black_elos)\n",
    "cnt_results = Counter(results)"
   ]
  },
  {
   "cell_type": "code",
   "execution_count": 78,
   "metadata": {},
   "outputs": [],
   "source": [
    "year_ = [y[0] for y in cnt_years.most_common()]\n",
    "count_ = [y[1] for y in cnt_years.most_common()]"
   ]
  },
  {
   "cell_type": "code",
   "execution_count": 95,
   "metadata": {},
   "outputs": [
    {
     "name": "stdout",
     "output_type": "stream",
     "text": [
      "white_elo_won: 7642\n",
      "black_elo_won: 4784\n",
      "white_elo_lost: 2230\n",
      "black_elo_lost: 3647\n",
      "white_elo_draw: 9594\n",
      "black_elo_draw: 10937\n",
      "total_win: 12426\n",
      "total_loss: 5877\n",
      "total_draw: 20531\n",
      "total_win [P]: 31.997733944481638\n",
      "total_loss [P]: 15.133645774321472\n",
      "total_draw [P]: 52.86862028119689\n"
     ]
    }
   ],
   "source": [
    "white_elo_won = 0 # white had greater elo and won\n",
    "black_elo_won = 0 # black had greater elo and won\n",
    "white_elo_lost = 0 # white had greater elo and lost\n",
    "black_elo_lost = 0 # black had greater elo and lost\n",
    "white_elo_draw = 0 # white had greater elo and draw\n",
    "black_elo_draw = 0 # black had greater elo and draw\n",
    "for we, be, res in zip(white_elos, black_elos, results):\n",
    "    if not we or not be:\n",
    "        continue\n",
    "    white_elo_won += 1 if we > be and res == '1-0' else 0\n",
    "    black_elo_won += 1 if be > we and res == '0-1' else 0\n",
    "    white_elo_lost += 1 if we > be and res == '0-1' else 0\n",
    "    black_elo_lost += 1 if be > we and res == '1-0' else 0\n",
    "    white_elo_draw += 1 if we > be and res == '1/2-1/2' else 0\n",
    "    black_elo_draw += 1 if be > we and res == '1/2-1/2' else 0\n",
    "    \n",
    "print('white_elo_won:', white_elo_won)\n",
    "print('black_elo_won:', black_elo_won)\n",
    "print('white_elo_lost:', white_elo_lost)\n",
    "print('black_elo_lost:', black_elo_lost)\n",
    "print('white_elo_draw:', white_elo_draw)\n",
    "print('black_elo_draw:', black_elo_draw)\n",
    "\n",
    "total_win = white_elo_won + black_elo_won\n",
    "total_loss = white_elo_lost + black_elo_lost\n",
    "total_draw = white_elo_draw + black_elo_draw\n",
    "\n",
    "print('total_win:', total_win)\n",
    "print('total_loss:', total_loss)\n",
    "print('total_draw:', total_draw)\n",
    "\n",
    "print('total_win [P]:', total_win / (total_win + total_loss + total_draw) * 100)\n",
    "print('total_loss [P]:', total_loss / (total_win + total_loss + total_draw) * 100)\n",
    "print('total_draw [P]:', total_draw / (total_win + total_loss + total_draw) * 100)"
   ]
  },
  {
   "cell_type": "code",
   "execution_count": 91,
   "metadata": {},
   "outputs": [
    {
     "data": {
      "text/plain": [
       "Text(0.5, 0, 'Result')"
      ]
     },
     "execution_count": 91,
     "metadata": {},
     "output_type": "execute_result"
    },
    {
     "data": {
      "image/png": "[encoded data removed]",
      "text/plain": [
       "<Figure size 1080x720 with 1 Axes>"
      ]
     },
     "metadata": {
      "needs_background": "light"
     },
     "output_type": "display_data"
    }
   ],
   "source": [
    "plt.figure(figsize = (15, 10))\n",
    "plt.bar(\n",
    "    ['Won', 'Lost', 'Draw'],\n",
    "    [total_win, total_loss, total_draw],\n",
    ")\n",
    "plt.title('Game Result Distribution')\n",
    "plt.ylabel('Count of Games')\n",
    "plt.xlabel('Result')"
   ]
  },
  {
   "cell_type": "code",
   "execution_count": null,
   "metadata": {},
   "outputs": [],
   "source": []
  }
 ],
 "metadata": {
  "kernelspec": {
   "display_name": "Python 3",
   "language": "python",
   "name": "python3"
  },
  "language_info": {
   "codemirror_mode": {
    "name": "ipython",
    "version": 3
   },
   "file_extension": ".py",
   "mimetype": "text/x-python",
   "name": "python",
   "nbconvert_exporter": "python",
   "pygments_lexer": "ipython3",
   "version": "3.7.3"
  }
 },
 "nbformat": 4,
 "nbformat_minor": 4
}
