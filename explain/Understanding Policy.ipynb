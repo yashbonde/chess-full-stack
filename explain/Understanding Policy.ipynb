{
 "cells": [
  {
   "cell_type": "code",
   "execution_count": 1,
   "metadata": {},
   "outputs": [],
   "source": [
    "import chess\n",
    "import json\n",
    "import numpy as np\n",
    "import io\n",
    "import time\n",
    "# import tensorflow as tf\n",
    "from chess.pgn import read_game\n",
    "import collections\n",
    "from types import SimpleNamespace\n",
    "from chess_engine.zima_common import engine\n",
    "import matplotlib.pyplot as plt\n",
    "%matplotlib inline"
   ]
  },
  {
   "cell_type": "markdown",
   "metadata": {},
   "source": [
    "### Making the Policy\n",
    "\n",
    "There are many ways to make the policy, one of the simplest methods is to have 2 heads, one to tell `from square` and the other to tell `to square`. But we are more interested in the method that was used in AlphaZero paper. Following is the content from the paper:\n",
    "\n",
    "``` text\n",
    "A move in chess may be described in two parts: selecting the piece to move, and then selecting among the legal moves for that piece. We represent the policy π(a|s) by a 8 × 8 × 73 stack of planes encoding a probability distribution over 4,672 possible moves. Each of the 8×8 positions identifies the square from which to “pick up” a piece. The first 56 planes encode possible ‘queen moves’ for any piece: a number of squares [1..7] in which the piece will be moved, along one of eight relative compass directions {N, NE, E, SE, S, SW, W, NW}. The next 8 planes encode possible knight moves for that piece. The final 9 planes encode possible underpromotions for pawn moves or captures in two possible diagonals, to knight, bishop or rook respectively. Other pawn moves or captures from the seventh rank are promoted to a queen.\n",
    "```\n",
    "\n",
    "This can be explained in the following manner.\n",
    "\n",
    "If a Queen is placed at the corner of the board there are 21 possible moves for that Queen. If the queen is placed in any of the centre 4 boxes then it has 27 possible moves (screenshots given below):\n",
    "\n",
    "<img src=\"./explain/qcorner.png\">\n",
    "<img src=\"./explain/qcentre.png\">\n",
    "<img src=\"./explain/qcorner2.png\">\n",
    "\n",
    "But in order to make a 100% generalised policy we need to have a policy that can operate on each tile in every direction. And we have 8 possible directions {N, NE, E, SE, S, SW, W, NW} So for each tile we can have 56 possible directions of movement (**NOTE: most of these will be illegal, pass through object, put piece off board, etc. these are masked later on.**). These are \"Queen moves\"(56), including the \"Knight moves\" for each position (8) and other moves (9) which make up the sum 73 (`56 + 8 + 9 = 73`).\n",
    "\n",
    "Thus giving us the action space of `8x8x73` and so when we perform the softmax we do not perform it over each `8x8x1` but instead over each tile i.e. `1x1x73`. Son of a bitch this is clever, it took me 2 hours to actually understand what the fuck is actually happening here!"
   ]
  },
  {
   "cell_type": "code",
   "execution_count": 25,
   "metadata": {},
   "outputs": [
    {
     "data": {
      "image/svg+xml": [
       "<svg height=\"400\" version=\"1.1\" viewBox=\"0 0 400 400\" width=\"400\" xmlns=\"http://www.w3.org/2000/svg\" xmlns:xlink=\"http://www.w3.org/1999/xlink\"><defs><g class=\"white knight\" fill=\"none\" fill-rule=\"evenodd\" id=\"white-knight\" stroke=\"#000\" stroke-linecap=\"round\" stroke-linejoin=\"round\" stroke-width=\"1.5\"><path d=\"M 22,10 C 32.5,11 38.5,18 38,39 L 15,39 C 15,30 25,32.5 23,18\" style=\"fill:#ffffff; stroke:#000000;\" /><path d=\"M 24,18 C 24.38,20.91 18.45,25.37 16,27 C 13,29 13.18,31.34 11,31 C 9.958,30.06 12.41,27.96 11,28 C 10,28 11.19,29.23 10,30 C 9,30 5.997,31 6,26 C 6,24 12,14 12,14 C 12,14 13.89,12.1 14,10.5 C 13.27,9.506 13.5,8.5 13.5,7.5 C 14.5,6.5 16.5,10 16.5,10 L 18.5,10 C 18.5,10 19.28,8.008 21,7 C 22,7 22,10 22,10\" style=\"fill:#ffffff; stroke:#000000;\" /><path d=\"M 9.5 25.5 A 0.5 0.5 0 1 1 8.5,25.5 A 0.5 0.5 0 1 1 9.5 25.5 z\" style=\"fill:#000000; stroke:#000000;\" /><path d=\"M 15 15.5 A 0.5 1.5 0 1 1 14,15.5 A 0.5 1.5 0 1 1 15 15.5 z\" style=\"fill:#000000; stroke:#000000;\" transform=\"matrix(0.866,0.5,-0.5,0.866,9.693,-5.173)\" /></g></defs><rect class=\"square dark a1\" fill=\"#d18b47\" height=\"45\" stroke=\"none\" width=\"45\" x=\"20\" y=\"335\" /><rect class=\"square light b1\" fill=\"#ffce9e\" height=\"45\" stroke=\"none\" width=\"45\" x=\"65\" y=\"335\" /><rect class=\"square dark c1\" fill=\"#d18b47\" height=\"45\" stroke=\"none\" width=\"45\" x=\"110\" y=\"335\" /><rect class=\"square light d1\" fill=\"#ffce9e\" height=\"45\" stroke=\"none\" width=\"45\" x=\"155\" y=\"335\" /><rect class=\"square dark e1\" fill=\"#d18b47\" height=\"45\" stroke=\"none\" width=\"45\" x=\"200\" y=\"335\" /><rect class=\"square light f1\" fill=\"#ffce9e\" height=\"45\" stroke=\"none\" width=\"45\" x=\"245\" y=\"335\" /><rect class=\"square dark g1\" fill=\"#d18b47\" height=\"45\" stroke=\"none\" width=\"45\" x=\"290\" y=\"335\" /><rect class=\"square light h1\" fill=\"#ffce9e\" height=\"45\" stroke=\"none\" width=\"45\" x=\"335\" y=\"335\" /><use transform=\"translate(335, 335)\" xlink:href=\"#white-knight\" /><rect class=\"square light a2\" fill=\"#ffce9e\" height=\"45\" stroke=\"none\" width=\"45\" x=\"20\" y=\"290\" /><rect class=\"square dark b2\" fill=\"#d18b47\" height=\"45\" stroke=\"none\" width=\"45\" x=\"65\" y=\"290\" /><rect class=\"square light c2\" fill=\"#ffce9e\" height=\"45\" stroke=\"none\" width=\"45\" x=\"110\" y=\"290\" /><rect class=\"square dark d2\" fill=\"#d18b47\" height=\"45\" stroke=\"none\" width=\"45\" x=\"155\" y=\"290\" /><rect class=\"square light e2\" fill=\"#ffce9e\" height=\"45\" stroke=\"none\" width=\"45\" x=\"200\" y=\"290\" /><rect class=\"square dark f2\" fill=\"#d18b47\" height=\"45\" stroke=\"none\" width=\"45\" x=\"245\" y=\"290\" /><rect class=\"square light g2\" fill=\"#ffce9e\" height=\"45\" stroke=\"none\" width=\"45\" x=\"290\" y=\"290\" /><rect class=\"square dark h2\" fill=\"#d18b47\" height=\"45\" stroke=\"none\" width=\"45\" x=\"335\" y=\"290\" /><rect class=\"square dark a3\" fill=\"#d18b47\" height=\"45\" stroke=\"none\" width=\"45\" x=\"20\" y=\"245\" /><rect class=\"square light b3\" fill=\"#ffce9e\" height=\"45\" stroke=\"none\" width=\"45\" x=\"65\" y=\"245\" /><rect class=\"square dark c3\" fill=\"#d18b47\" height=\"45\" stroke=\"none\" width=\"45\" x=\"110\" y=\"245\" /><rect class=\"square light d3\" fill=\"#ffce9e\" height=\"45\" stroke=\"none\" width=\"45\" x=\"155\" y=\"245\" /><rect class=\"square dark e3\" fill=\"#d18b47\" height=\"45\" stroke=\"none\" width=\"45\" x=\"200\" y=\"245\" /><rect class=\"square light f3\" fill=\"#ffce9e\" height=\"45\" stroke=\"none\" width=\"45\" x=\"245\" y=\"245\" /><rect class=\"square dark g3\" fill=\"#d18b47\" height=\"45\" stroke=\"none\" width=\"45\" x=\"290\" y=\"245\" /><rect class=\"square light h3\" fill=\"#ffce9e\" height=\"45\" stroke=\"none\" width=\"45\" x=\"335\" y=\"245\" /><rect class=\"square light a4\" fill=\"#ffce9e\" height=\"45\" stroke=\"none\" width=\"45\" x=\"20\" y=\"200\" /><rect class=\"square dark b4\" fill=\"#d18b47\" height=\"45\" stroke=\"none\" width=\"45\" x=\"65\" y=\"200\" /><rect class=\"square light c4\" fill=\"#ffce9e\" height=\"45\" stroke=\"none\" width=\"45\" x=\"110\" y=\"200\" /><rect class=\"square dark d4\" fill=\"#d18b47\" height=\"45\" stroke=\"none\" width=\"45\" x=\"155\" y=\"200\" /><rect class=\"square light e4\" fill=\"#ffce9e\" height=\"45\" stroke=\"none\" width=\"45\" x=\"200\" y=\"200\" /><rect class=\"square dark f4\" fill=\"#d18b47\" height=\"45\" stroke=\"none\" width=\"45\" x=\"245\" y=\"200\" /><rect class=\"square light g4\" fill=\"#ffce9e\" height=\"45\" stroke=\"none\" width=\"45\" x=\"290\" y=\"200\" /><rect class=\"square dark h4\" fill=\"#d18b47\" height=\"45\" stroke=\"none\" width=\"45\" x=\"335\" y=\"200\" /><rect class=\"square dark a5\" fill=\"#d18b47\" height=\"45\" stroke=\"none\" width=\"45\" x=\"20\" y=\"155\" /><rect class=\"square light b5\" fill=\"#ffce9e\" height=\"45\" stroke=\"none\" width=\"45\" x=\"65\" y=\"155\" /><rect class=\"square dark c5\" fill=\"#d18b47\" height=\"45\" stroke=\"none\" width=\"45\" x=\"110\" y=\"155\" /><rect class=\"square light d5\" fill=\"#ffce9e\" height=\"45\" stroke=\"none\" width=\"45\" x=\"155\" y=\"155\" /><rect class=\"square dark e5\" fill=\"#d18b47\" height=\"45\" stroke=\"none\" width=\"45\" x=\"200\" y=\"155\" /><rect class=\"square light f5\" fill=\"#ffce9e\" height=\"45\" stroke=\"none\" width=\"45\" x=\"245\" y=\"155\" /><rect class=\"square dark g5\" fill=\"#d18b47\" height=\"45\" stroke=\"none\" width=\"45\" x=\"290\" y=\"155\" /><rect class=\"square light h5\" fill=\"#ffce9e\" height=\"45\" stroke=\"none\" width=\"45\" x=\"335\" y=\"155\" /><rect class=\"square light a6\" fill=\"#ffce9e\" height=\"45\" stroke=\"none\" width=\"45\" x=\"20\" y=\"110\" /><rect class=\"square dark b6\" fill=\"#d18b47\" height=\"45\" stroke=\"none\" width=\"45\" x=\"65\" y=\"110\" /><rect class=\"square light c6\" fill=\"#ffce9e\" height=\"45\" stroke=\"none\" width=\"45\" x=\"110\" y=\"110\" /><rect class=\"square dark d6\" fill=\"#d18b47\" height=\"45\" stroke=\"none\" width=\"45\" x=\"155\" y=\"110\" /><rect class=\"square light e6\" fill=\"#ffce9e\" height=\"45\" stroke=\"none\" width=\"45\" x=\"200\" y=\"110\" /><rect class=\"square dark f6\" fill=\"#d18b47\" height=\"45\" stroke=\"none\" width=\"45\" x=\"245\" y=\"110\" /><rect class=\"square light g6\" fill=\"#ffce9e\" height=\"45\" stroke=\"none\" width=\"45\" x=\"290\" y=\"110\" /><rect class=\"square dark h6\" fill=\"#d18b47\" height=\"45\" stroke=\"none\" width=\"45\" x=\"335\" y=\"110\" /><rect class=\"square dark a7\" fill=\"#d18b47\" height=\"45\" stroke=\"none\" width=\"45\" x=\"20\" y=\"65\" /><rect class=\"square light b7\" fill=\"#ffce9e\" height=\"45\" stroke=\"none\" width=\"45\" x=\"65\" y=\"65\" /><rect class=\"square dark c7\" fill=\"#d18b47\" height=\"45\" stroke=\"none\" width=\"45\" x=\"110\" y=\"65\" /><rect class=\"square light d7\" fill=\"#ffce9e\" height=\"45\" stroke=\"none\" width=\"45\" x=\"155\" y=\"65\" /><rect class=\"square dark e7\" fill=\"#d18b47\" height=\"45\" stroke=\"none\" width=\"45\" x=\"200\" y=\"65\" /><rect class=\"square light f7\" fill=\"#ffce9e\" height=\"45\" stroke=\"none\" width=\"45\" x=\"245\" y=\"65\" /><rect class=\"square dark g7\" fill=\"#d18b47\" height=\"45\" stroke=\"none\" width=\"45\" x=\"290\" y=\"65\" /><rect class=\"square light h7\" fill=\"#ffce9e\" height=\"45\" stroke=\"none\" width=\"45\" x=\"335\" y=\"65\" /><rect class=\"square light a8\" fill=\"#ffce9e\" height=\"45\" stroke=\"none\" width=\"45\" x=\"20\" y=\"20\" /><rect class=\"square dark b8\" fill=\"#d18b47\" height=\"45\" stroke=\"none\" width=\"45\" x=\"65\" y=\"20\" /><rect class=\"square light c8\" fill=\"#ffce9e\" height=\"45\" stroke=\"none\" width=\"45\" x=\"110\" y=\"20\" /><rect class=\"square dark d8\" fill=\"#d18b47\" height=\"45\" stroke=\"none\" width=\"45\" x=\"155\" y=\"20\" /><rect class=\"square light e8\" fill=\"#ffce9e\" height=\"45\" stroke=\"none\" width=\"45\" x=\"200\" y=\"20\" /><rect class=\"square dark f8\" fill=\"#d18b47\" height=\"45\" stroke=\"none\" width=\"45\" x=\"245\" y=\"20\" /><rect class=\"square light g8\" fill=\"#ffce9e\" height=\"45\" stroke=\"none\" width=\"45\" x=\"290\" y=\"20\" /><rect class=\"square dark h8\" fill=\"#d18b47\" height=\"45\" stroke=\"none\" width=\"45\" x=\"335\" y=\"20\" /><text alignment-baseline=\"middle\" font-size=\"14\" text-anchor=\"middle\" x=\"42\" y=\"10\">a</text><text alignment-baseline=\"middle\" font-size=\"14\" text-anchor=\"middle\" x=\"42\" y=\"390\">a</text><text alignment-baseline=\"middle\" font-size=\"14\" text-anchor=\"middle\" x=\"87\" y=\"10\">b</text><text alignment-baseline=\"middle\" font-size=\"14\" text-anchor=\"middle\" x=\"87\" y=\"390\">b</text><text alignment-baseline=\"middle\" font-size=\"14\" text-anchor=\"middle\" x=\"132\" y=\"10\">c</text><text alignment-baseline=\"middle\" font-size=\"14\" text-anchor=\"middle\" x=\"132\" y=\"390\">c</text><text alignment-baseline=\"middle\" font-size=\"14\" text-anchor=\"middle\" x=\"177\" y=\"10\">d</text><text alignment-baseline=\"middle\" font-size=\"14\" text-anchor=\"middle\" x=\"177\" y=\"390\">d</text><text alignment-baseline=\"middle\" font-size=\"14\" text-anchor=\"middle\" x=\"222\" y=\"10\">e</text><text alignment-baseline=\"middle\" font-size=\"14\" text-anchor=\"middle\" x=\"222\" y=\"390\">e</text><text alignment-baseline=\"middle\" font-size=\"14\" text-anchor=\"middle\" x=\"267\" y=\"10\">f</text><text alignment-baseline=\"middle\" font-size=\"14\" text-anchor=\"middle\" x=\"267\" y=\"390\">f</text><text alignment-baseline=\"middle\" font-size=\"14\" text-anchor=\"middle\" x=\"312\" y=\"10\">g</text><text alignment-baseline=\"middle\" font-size=\"14\" text-anchor=\"middle\" x=\"312\" y=\"390\">g</text><text alignment-baseline=\"middle\" font-size=\"14\" text-anchor=\"middle\" x=\"357\" y=\"10\">h</text><text alignment-baseline=\"middle\" font-size=\"14\" text-anchor=\"middle\" x=\"357\" y=\"390\">h</text><text alignment-baseline=\"middle\" font-size=\"14\" text-anchor=\"middle\" x=\"10\" y=\"357\">1</text><text alignment-baseline=\"middle\" font-size=\"14\" text-anchor=\"middle\" x=\"390\" y=\"357\">1</text><text alignment-baseline=\"middle\" font-size=\"14\" text-anchor=\"middle\" x=\"10\" y=\"312\">2</text><text alignment-baseline=\"middle\" font-size=\"14\" text-anchor=\"middle\" x=\"390\" y=\"312\">2</text><text alignment-baseline=\"middle\" font-size=\"14\" text-anchor=\"middle\" x=\"10\" y=\"267\">3</text><text alignment-baseline=\"middle\" font-size=\"14\" text-anchor=\"middle\" x=\"390\" y=\"267\">3</text><text alignment-baseline=\"middle\" font-size=\"14\" text-anchor=\"middle\" x=\"10\" y=\"222\">4</text><text alignment-baseline=\"middle\" font-size=\"14\" text-anchor=\"middle\" x=\"390\" y=\"222\">4</text><text alignment-baseline=\"middle\" font-size=\"14\" text-anchor=\"middle\" x=\"10\" y=\"177\">5</text><text alignment-baseline=\"middle\" font-size=\"14\" text-anchor=\"middle\" x=\"390\" y=\"177\">5</text><text alignment-baseline=\"middle\" font-size=\"14\" text-anchor=\"middle\" x=\"10\" y=\"132\">6</text><text alignment-baseline=\"middle\" font-size=\"14\" text-anchor=\"middle\" x=\"390\" y=\"132\">6</text><text alignment-baseline=\"middle\" font-size=\"14\" text-anchor=\"middle\" x=\"10\" y=\"87\">7</text><text alignment-baseline=\"middle\" font-size=\"14\" text-anchor=\"middle\" x=\"390\" y=\"87\">7</text><text alignment-baseline=\"middle\" font-size=\"14\" text-anchor=\"middle\" x=\"10\" y=\"42\">8</text><text alignment-baseline=\"middle\" font-size=\"14\" text-anchor=\"middle\" x=\"390\" y=\"42\">8</text></svg>"
      ],
      "text/plain": [
       "Board('8/8/8/8/8/8/8/7N w - - 0 1')"
      ]
     },
     "execution_count": 25,
     "metadata": {},
     "output_type": "execute_result"
    }
   ],
   "source": [
    "board = chess.Board('8/8/8/8/8/8/8/7N')\n",
    "board"
   ]
  },
  {
   "cell_type": "code",
   "execution_count": 30,
   "metadata": {},
   "outputs": [
    {
     "name": "stdout",
     "output_type": "stream",
     "text": [
      "h1g3 7 22\n",
      "h1f2 7 13\n"
     ]
    }
   ],
   "source": [
    "for move in board.legal_moves:\n",
    "    print(move, move.from_square, move.to_square)"
   ]
  },
  {
   "cell_type": "code",
   "execution_count": 36,
   "metadata": {},
   "outputs": [
    {
     "data": {
      "text/plain": [
       "'8/8/8/8/8/8/8/7N w - - 0 1'"
      ]
     },
     "execution_count": 36,
     "metadata": {},
     "output_type": "execute_result"
    }
   ],
   "source": [
    "board.fen()"
   ]
  },
  {
   "cell_type": "code",
   "execution_count": 5,
   "metadata": {},
   "outputs": [
    {
     "name": "stderr",
     "output_type": "stream",
     "text": [
      "/usr/local/lib/python3.7/site-packages/tensorflow/python/framework/dtypes.py:516: FutureWarning: Passing (type, 1) or '1type' as a synonym of type is deprecated; in a future version of numpy, it will be understood as (type, (1,)) / '(1,)type'.\n",
      "  _np_qint8 = np.dtype([(\"qint8\", np.int8, 1)])\n",
      "/usr/local/lib/python3.7/site-packages/tensorflow/python/framework/dtypes.py:517: FutureWarning: Passing (type, 1) or '1type' as a synonym of type is deprecated; in a future version of numpy, it will be understood as (type, (1,)) / '(1,)type'.\n",
      "  _np_quint8 = np.dtype([(\"quint8\", np.uint8, 1)])\n",
      "/usr/local/lib/python3.7/site-packages/tensorflow/python/framework/dtypes.py:518: FutureWarning: Passing (type, 1) or '1type' as a synonym of type is deprecated; in a future version of numpy, it will be understood as (type, (1,)) / '(1,)type'.\n",
      "  _np_qint16 = np.dtype([(\"qint16\", np.int16, 1)])\n",
      "/usr/local/lib/python3.7/site-packages/tensorflow/python/framework/dtypes.py:519: FutureWarning: Passing (type, 1) or '1type' as a synonym of type is deprecated; in a future version of numpy, it will be understood as (type, (1,)) / '(1,)type'.\n",
      "  _np_quint16 = np.dtype([(\"quint16\", np.uint16, 1)])\n",
      "/usr/local/lib/python3.7/site-packages/tensorflow/python/framework/dtypes.py:520: FutureWarning: Passing (type, 1) or '1type' as a synonym of type is deprecated; in a future version of numpy, it will be understood as (type, (1,)) / '(1,)type'.\n",
      "  _np_qint32 = np.dtype([(\"qint32\", np.int32, 1)])\n",
      "/usr/local/lib/python3.7/site-packages/tensorflow/python/framework/dtypes.py:525: FutureWarning: Passing (type, 1) or '1type' as a synonym of type is deprecated; in a future version of numpy, it will be understood as (type, (1,)) / '(1,)type'.\n",
      "  np_resource = np.dtype([(\"resource\", np.ubyte, 1)])\n",
      "/usr/local/lib/python3.7/site-packages/tensorboard/compat/tensorflow_stub/dtypes.py:541: FutureWarning: Passing (type, 1) or '1type' as a synonym of type is deprecated; in a future version of numpy, it will be understood as (type, (1,)) / '(1,)type'.\n",
      "  _np_qint8 = np.dtype([(\"qint8\", np.int8, 1)])\n",
      "/usr/local/lib/python3.7/site-packages/tensorboard/compat/tensorflow_stub/dtypes.py:542: FutureWarning: Passing (type, 1) or '1type' as a synonym of type is deprecated; in a future version of numpy, it will be understood as (type, (1,)) / '(1,)type'.\n",
      "  _np_quint8 = np.dtype([(\"quint8\", np.uint8, 1)])\n",
      "/usr/local/lib/python3.7/site-packages/tensorboard/compat/tensorflow_stub/dtypes.py:543: FutureWarning: Passing (type, 1) or '1type' as a synonym of type is deprecated; in a future version of numpy, it will be understood as (type, (1,)) / '(1,)type'.\n",
      "  _np_qint16 = np.dtype([(\"qint16\", np.int16, 1)])\n",
      "/usr/local/lib/python3.7/site-packages/tensorboard/compat/tensorflow_stub/dtypes.py:544: FutureWarning: Passing (type, 1) or '1type' as a synonym of type is deprecated; in a future version of numpy, it will be understood as (type, (1,)) / '(1,)type'.\n",
      "  _np_quint16 = np.dtype([(\"quint16\", np.uint16, 1)])\n",
      "/usr/local/lib/python3.7/site-packages/tensorboard/compat/tensorflow_stub/dtypes.py:545: FutureWarning: Passing (type, 1) or '1type' as a synonym of type is deprecated; in a future version of numpy, it will be understood as (type, (1,)) / '(1,)type'.\n",
      "  _np_qint32 = np.dtype([(\"qint32\", np.int32, 1)])\n",
      "/usr/local/lib/python3.7/site-packages/tensorboard/compat/tensorflow_stub/dtypes.py:550: FutureWarning: Passing (type, 1) or '1type' as a synonym of type is deprecated; in a future version of numpy, it will be understood as (type, (1,)) / '(1,)type'.\n",
      "  np_resource = np.dtype([(\"resource\", np.ubyte, 1)])\n"
     ]
    }
   ],
   "source": [
    "import tensorflow as tf\n",
    "from chess_engine.zima_common import common_layers"
   ]
  },
  {
   "cell_type": "code",
   "execution_count": 43,
   "metadata": {},
   "outputs": [],
   "source": [
    "def value_network_alphazero(iter_obj, config, lr = 0.2):\n",
    "    \"\"\"\n",
    "    This is only the value head part for this network and not the policy head\n",
    "    piece, so I think we may get away with using less number of layers. The\n",
    "    alpha zero network is defined as (p,v) = f_theta(s) whereas this only\n",
    "    value network is defined as v = f_theta(s) where theta are the parameters\n",
    "\n",
    "    As far as the training is concerned the learning rate was dropped twice\n",
    "    during the training. It starts with 0.2, then is dropped to 0.02 at 100k,\n",
    "    then to 0.002 at 300k and 0.0002 at 500k.\n",
    "    \"\"\"\n",
    "    board = tf.cast(iter_obj.board, tf.float32)\n",
    "    batch_size = common_layers.shapes_list(board)[0]\n",
    "    # defined is the regularisation loss\n",
    "    with tf.variable_scope(\"zima_alphazero_value\", regularizer = tf.keras.regularizers.l2()):\n",
    "        out = tf.layers.batch_normalization(\n",
    "            tf.layers.conv2d(board, 256, 3, padding = 'same'),\n",
    "            training=config.training)\n",
    "        for layer_idx in range(19):\n",
    "#             print(layer_idx)\n",
    "            with tf.variable_scope(\"stack_{}\".format(layer_idx)):\n",
    "                conv_out = tf.nn.relu(tf.layers.batch_normalization(\n",
    "                    tf.layers.conv2d(out, 256, 3, padding = 'same'), training=config.training))\n",
    "#                 print(conv_out)\n",
    "                conv_out = tf.nn.relu(tf.layers.batch_normalization(\n",
    "                    tf.layers.conv2d(conv_out, 256, 3, padding = 'same'), training=config.training))\n",
    "#                 print(conv_out)\n",
    "                out += conv_out\n",
    "\n",
    "        out = tf.nn.relu(tf.layers.batch_normalization(\n",
    "            tf.layers.conv2d(out, 1, 1, padding = 'same'), training=config.training))\n",
    "        out = tf.reshape(out, [batch_size, 64], name = 'flatten')\n",
    "        out = tf.nn.relu(tf.layers.dense(out, 265))\n",
    "        value_out = tf.nn.tanh(tf.layers.dense(out, 1))\n",
    "        print(value_out)\n",
    "\n",
    "    if config.training:\n",
    "        # we need to define the loss function here\n",
    "        \"\"\"\n",
    "        loss function is defined as follows:\n",
    "        l = (z-v)^2 + c||theta||^2\n",
    "\n",
    "        where ||x|| is L2 normalisation of x\n",
    "        \"\"\"\n",
    "        value_target = tf.expand_dims(\n",
    "            tf.cast(iter_obj.value_target, tf.float32),\n",
    "            axis=1)\n",
    "        value_loss = tf.reduce_sum(tf.math.squared_difference(value_out, value_target))\n",
    "        reg_losses = tf.get_collection(tf.GraphKeys.REGULARIZATION_LOSSES)\n",
    "        total_loss = value_loss + config.reg_const * sum(reg_losses)"
   ]
  },
  {
   "cell_type": "code",
   "execution_count": 44,
   "metadata": {},
   "outputs": [
    {
     "name": "stdout",
     "output_type": "stream",
     "text": [
      "Tensor(\"zima_alphazero_value/Tanh:0\", shape=(?, 1), dtype=float32)\n",
      "[<tf.Tensor 'zima_alphazero_value/conv2d/kernel/Regularizer/add:0' shape=() dtype=float32>, <tf.Tensor 'zima_alphazero_value/conv2d/bias/Regularizer/add:0' shape=() dtype=float32>, <tf.Tensor 'zima_alphazero_value/batch_normalization/gamma/Regularizer/add:0' shape=() dtype=float32>, <tf.Tensor 'zima_alphazero_value/batch_normalization/beta/Regularizer/add:0' shape=() dtype=float32>, <tf.Tensor 'zima_alphazero_value/batch_normalization/moving_mean/Regularizer/add:0' shape=() dtype=float32>, <tf.Tensor 'zima_alphazero_value/batch_normalization/moving_variance/Regularizer/add:0' shape=() dtype=float32>, <tf.Tensor 'zima_alphazero_value/stack_0/conv2d/kernel/Regularizer/add:0' shape=() dtype=float32>, <tf.Tensor 'zima_alphazero_value/stack_0/conv2d/bias/Regularizer/add:0' shape=() dtype=float32>, <tf.Tensor 'zima_alphazero_value/stack_0/batch_normalization/gamma/Regularizer/add:0' shape=() dtype=float32>, <tf.Tensor 'zima_alphazero_value/stack_0/batch_normalization/beta/Regularizer/add:0' shape=() dtype=float32>, <tf.Tensor 'zima_alphazero_value/stack_0/batch_normalization/moving_mean/Regularizer/add:0' shape=() dtype=float32>, <tf.Tensor 'zima_alphazero_value/stack_0/batch_normalization/moving_variance/Regularizer/add:0' shape=() dtype=float32>, <tf.Tensor 'zima_alphazero_value/stack_0/conv2d_1/kernel/Regularizer/add:0' shape=() dtype=float32>, <tf.Tensor 'zima_alphazero_value/stack_0/conv2d_1/bias/Regularizer/add:0' shape=() dtype=float32>, <tf.Tensor 'zima_alphazero_value/stack_0/batch_normalization_1/gamma/Regularizer/add:0' shape=() dtype=float32>, <tf.Tensor 'zima_alphazero_value/stack_0/batch_normalization_1/beta/Regularizer/add:0' shape=() dtype=float32>, <tf.Tensor 'zima_alphazero_value/stack_0/batch_normalization_1/moving_mean/Regularizer/add:0' shape=() dtype=float32>, <tf.Tensor 'zima_alphazero_value/stack_0/batch_normalization_1/moving_variance/Regularizer/add:0' shape=() dtype=float32>, <tf.Tensor 'zima_alphazero_value/stack_1/conv2d/kernel/Regularizer/add:0' shape=() dtype=float32>, <tf.Tensor 'zima_alphazero_value/stack_1/conv2d/bias/Regularizer/add:0' shape=() dtype=float32>, <tf.Tensor 'zima_alphazero_value/stack_1/batch_normalization/gamma/Regularizer/add:0' shape=() dtype=float32>, <tf.Tensor 'zima_alphazero_value/stack_1/batch_normalization/beta/Regularizer/add:0' shape=() dtype=float32>, <tf.Tensor 'zima_alphazero_value/stack_1/batch_normalization/moving_mean/Regularizer/add:0' shape=() dtype=float32>, <tf.Tensor 'zima_alphazero_value/stack_1/batch_normalization/moving_variance/Regularizer/add:0' shape=() dtype=float32>, <tf.Tensor 'zima_alphazero_value/stack_1/conv2d_1/kernel/Regularizer/add:0' shape=() dtype=float32>, <tf.Tensor 'zima_alphazero_value/stack_1/conv2d_1/bias/Regularizer/add:0' shape=() dtype=float32>, <tf.Tensor 'zima_alphazero_value/stack_1/batch_normalization_1/gamma/Regularizer/add:0' shape=() dtype=float32>, <tf.Tensor 'zima_alphazero_value/stack_1/batch_normalization_1/beta/Regularizer/add:0' shape=() dtype=float32>, <tf.Tensor 'zima_alphazero_value/stack_1/batch_normalization_1/moving_mean/Regularizer/add:0' shape=() dtype=float32>, <tf.Tensor 'zima_alphazero_value/stack_1/batch_normalization_1/moving_variance/Regularizer/add:0' shape=() dtype=float32>, <tf.Tensor 'zima_alphazero_value/stack_2/conv2d/kernel/Regularizer/add:0' shape=() dtype=float32>, <tf.Tensor 'zima_alphazero_value/stack_2/conv2d/bias/Regularizer/add:0' shape=() dtype=float32>, <tf.Tensor 'zima_alphazero_value/stack_2/batch_normalization/gamma/Regularizer/add:0' shape=() dtype=float32>, <tf.Tensor 'zima_alphazero_value/stack_2/batch_normalization/beta/Regularizer/add:0' shape=() dtype=float32>, <tf.Tensor 'zima_alphazero_value/stack_2/batch_normalization/moving_mean/Regularizer/add:0' shape=() dtype=float32>, <tf.Tensor 'zima_alphazero_value/stack_2/batch_normalization/moving_variance/Regularizer/add:0' shape=() dtype=float32>, <tf.Tensor 'zima_alphazero_value/stack_2/conv2d_1/kernel/Regularizer/add:0' shape=() dtype=float32>, <tf.Tensor 'zima_alphazero_value/stack_2/conv2d_1/bias/Regularizer/add:0' shape=() dtype=float32>, <tf.Tensor 'zima_alphazero_value/stack_2/batch_normalization_1/gamma/Regularizer/add:0' shape=() dtype=float32>, <tf.Tensor 'zima_alphazero_value/stack_2/batch_normalization_1/beta/Regularizer/add:0' shape=() dtype=float32>, <tf.Tensor 'zima_alphazero_value/stack_2/batch_normalization_1/moving_mean/Regularizer/add:0' shape=() dtype=float32>, <tf.Tensor 'zima_alphazero_value/stack_2/batch_normalization_1/moving_variance/Regularizer/add:0' shape=() dtype=float32>, <tf.Tensor 'zima_alphazero_value/stack_3/conv2d/kernel/Regularizer/add:0' shape=() dtype=float32>, <tf.Tensor 'zima_alphazero_value/stack_3/conv2d/bias/Regularizer/add:0' shape=() dtype=float32>, <tf.Tensor 'zima_alphazero_value/stack_3/batch_normalization/gamma/Regularizer/add:0' shape=() dtype=float32>, <tf.Tensor 'zima_alphazero_value/stack_3/batch_normalization/beta/Regularizer/add:0' shape=() dtype=float32>, <tf.Tensor 'zima_alphazero_value/stack_3/batch_normalization/moving_mean/Regularizer/add:0' shape=() dtype=float32>, <tf.Tensor 'zima_alphazero_value/stack_3/batch_normalization/moving_variance/Regularizer/add:0' shape=() dtype=float32>, <tf.Tensor 'zima_alphazero_value/stack_3/conv2d_1/kernel/Regularizer/add:0' shape=() dtype=float32>, <tf.Tensor 'zima_alphazero_value/stack_3/conv2d_1/bias/Regularizer/add:0' shape=() dtype=float32>, <tf.Tensor 'zima_alphazero_value/stack_3/batch_normalization_1/gamma/Regularizer/add:0' shape=() dtype=float32>, <tf.Tensor 'zima_alphazero_value/stack_3/batch_normalization_1/beta/Regularizer/add:0' shape=() dtype=float32>, <tf.Tensor 'zima_alphazero_value/stack_3/batch_normalization_1/moving_mean/Regularizer/add:0' shape=() dtype=float32>, <tf.Tensor 'zima_alphazero_value/stack_3/batch_normalization_1/moving_variance/Regularizer/add:0' shape=() dtype=float32>, <tf.Tensor 'zima_alphazero_value/stack_4/conv2d/kernel/Regularizer/add:0' shape=() dtype=float32>, <tf.Tensor 'zima_alphazero_value/stack_4/conv2d/bias/Regularizer/add:0' shape=() dtype=float32>, <tf.Tensor 'zima_alphazero_value/stack_4/batch_normalization/gamma/Regularizer/add:0' shape=() dtype=float32>, <tf.Tensor 'zima_alphazero_value/stack_4/batch_normalization/beta/Regularizer/add:0' shape=() dtype=float32>, <tf.Tensor 'zima_alphazero_value/stack_4/batch_normalization/moving_mean/Regularizer/add:0' shape=() dtype=float32>, <tf.Tensor 'zima_alphazero_value/stack_4/batch_normalization/moving_variance/Regularizer/add:0' shape=() dtype=float32>, <tf.Tensor 'zima_alphazero_value/stack_4/conv2d_1/kernel/Regularizer/add:0' shape=() dtype=float32>, <tf.Tensor 'zima_alphazero_value/stack_4/conv2d_1/bias/Regularizer/add:0' shape=() dtype=float32>, <tf.Tensor 'zima_alphazero_value/stack_4/batch_normalization_1/gamma/Regularizer/add:0' shape=() dtype=float32>, <tf.Tensor 'zima_alphazero_value/stack_4/batch_normalization_1/beta/Regularizer/add:0' shape=() dtype=float32>, <tf.Tensor 'zima_alphazero_value/stack_4/batch_normalization_1/moving_mean/Regularizer/add:0' shape=() dtype=float32>, <tf.Tensor 'zima_alphazero_value/stack_4/batch_normalization_1/moving_variance/Regularizer/add:0' shape=() dtype=float32>, <tf.Tensor 'zima_alphazero_value/stack_5/conv2d/kernel/Regularizer/add:0' shape=() dtype=float32>, <tf.Tensor 'zima_alphazero_value/stack_5/conv2d/bias/Regularizer/add:0' shape=() dtype=float32>, <tf.Tensor 'zima_alphazero_value/stack_5/batch_normalization/gamma/Regularizer/add:0' shape=() dtype=float32>, <tf.Tensor 'zima_alphazero_value/stack_5/batch_normalization/beta/Regularizer/add:0' shape=() dtype=float32>, <tf.Tensor 'zima_alphazero_value/stack_5/batch_normalization/moving_mean/Regularizer/add:0' shape=() dtype=float32>, <tf.Tensor 'zima_alphazero_value/stack_5/batch_normalization/moving_variance/Regularizer/add:0' shape=() dtype=float32>, <tf.Tensor 'zima_alphazero_value/stack_5/conv2d_1/kernel/Regularizer/add:0' shape=() dtype=float32>, <tf.Tensor 'zima_alphazero_value/stack_5/conv2d_1/bias/Regularizer/add:0' shape=() dtype=float32>, <tf.Tensor 'zima_alphazero_value/stack_5/batch_normalization_1/gamma/Regularizer/add:0' shape=() dtype=float32>, <tf.Tensor 'zima_alphazero_value/stack_5/batch_normalization_1/beta/Regularizer/add:0' shape=() dtype=float32>, <tf.Tensor 'zima_alphazero_value/stack_5/batch_normalization_1/moving_mean/Regularizer/add:0' shape=() dtype=float32>, <tf.Tensor 'zima_alphazero_value/stack_5/batch_normalization_1/moving_variance/Regularizer/add:0' shape=() dtype=float32>, <tf.Tensor 'zima_alphazero_value/stack_6/conv2d/kernel/Regularizer/add:0' shape=() dtype=float32>, <tf.Tensor 'zima_alphazero_value/stack_6/conv2d/bias/Regularizer/add:0' shape=() dtype=float32>, <tf.Tensor 'zima_alphazero_value/stack_6/batch_normalization/gamma/Regularizer/add:0' shape=() dtype=float32>, <tf.Tensor 'zima_alphazero_value/stack_6/batch_normalization/beta/Regularizer/add:0' shape=() dtype=float32>, <tf.Tensor 'zima_alphazero_value/stack_6/batch_normalization/moving_mean/Regularizer/add:0' shape=() dtype=float32>, <tf.Tensor 'zima_alphazero_value/stack_6/batch_normalization/moving_variance/Regularizer/add:0' shape=() dtype=float32>, <tf.Tensor 'zima_alphazero_value/stack_6/conv2d_1/kernel/Regularizer/add:0' shape=() dtype=float32>, <tf.Tensor 'zima_alphazero_value/stack_6/conv2d_1/bias/Regularizer/add:0' shape=() dtype=float32>, <tf.Tensor 'zima_alphazero_value/stack_6/batch_normalization_1/gamma/Regularizer/add:0' shape=() dtype=float32>, <tf.Tensor 'zima_alphazero_value/stack_6/batch_normalization_1/beta/Regularizer/add:0' shape=() dtype=float32>, <tf.Tensor 'zima_alphazero_value/stack_6/batch_normalization_1/moving_mean/Regularizer/add:0' shape=() dtype=float32>, <tf.Tensor 'zima_alphazero_value/stack_6/batch_normalization_1/moving_variance/Regularizer/add:0' shape=() dtype=float32>, <tf.Tensor 'zima_alphazero_value/stack_7/conv2d/kernel/Regularizer/add:0' shape=() dtype=float32>, <tf.Tensor 'zima_alphazero_value/stack_7/conv2d/bias/Regularizer/add:0' shape=() dtype=float32>, <tf.Tensor 'zima_alphazero_value/stack_7/batch_normalization/gamma/Regularizer/add:0' shape=() dtype=float32>, <tf.Tensor 'zima_alphazero_value/stack_7/batch_normalization/beta/Regularizer/add:0' shape=() dtype=float32>, <tf.Tensor 'zima_alphazero_value/stack_7/batch_normalization/moving_mean/Regularizer/add:0' shape=() dtype=float32>, <tf.Tensor 'zima_alphazero_value/stack_7/batch_normalization/moving_variance/Regularizer/add:0' shape=() dtype=float32>, <tf.Tensor 'zima_alphazero_value/stack_7/conv2d_1/kernel/Regularizer/add:0' shape=() dtype=float32>, <tf.Tensor 'zima_alphazero_value/stack_7/conv2d_1/bias/Regularizer/add:0' shape=() dtype=float32>, <tf.Tensor 'zima_alphazero_value/stack_7/batch_normalization_1/gamma/Regularizer/add:0' shape=() dtype=float32>, <tf.Tensor 'zima_alphazero_value/stack_7/batch_normalization_1/beta/Regularizer/add:0' shape=() dtype=float32>, <tf.Tensor 'zima_alphazero_value/stack_7/batch_normalization_1/moving_mean/Regularizer/add:0' shape=() dtype=float32>, <tf.Tensor 'zima_alphazero_value/stack_7/batch_normalization_1/moving_variance/Regularizer/add:0' shape=() dtype=float32>, <tf.Tensor 'zima_alphazero_value/stack_8/conv2d/kernel/Regularizer/add:0' shape=() dtype=float32>, <tf.Tensor 'zima_alphazero_value/stack_8/conv2d/bias/Regularizer/add:0' shape=() dtype=float32>, <tf.Tensor 'zima_alphazero_value/stack_8/batch_normalization/gamma/Regularizer/add:0' shape=() dtype=float32>, <tf.Tensor 'zima_alphazero_value/stack_8/batch_normalization/beta/Regularizer/add:0' shape=() dtype=float32>, <tf.Tensor 'zima_alphazero_value/stack_8/batch_normalization/moving_mean/Regularizer/add:0' shape=() dtype=float32>, <tf.Tensor 'zima_alphazero_value/stack_8/batch_normalization/moving_variance/Regularizer/add:0' shape=() dtype=float32>, <tf.Tensor 'zima_alphazero_value/stack_8/conv2d_1/kernel/Regularizer/add:0' shape=() dtype=float32>, <tf.Tensor 'zima_alphazero_value/stack_8/conv2d_1/bias/Regularizer/add:0' shape=() dtype=float32>, <tf.Tensor 'zima_alphazero_value/stack_8/batch_normalization_1/gamma/Regularizer/add:0' shape=() dtype=float32>, <tf.Tensor 'zima_alphazero_value/stack_8/batch_normalization_1/beta/Regularizer/add:0' shape=() dtype=float32>, <tf.Tensor 'zima_alphazero_value/stack_8/batch_normalization_1/moving_mean/Regularizer/add:0' shape=() dtype=float32>, <tf.Tensor 'zima_alphazero_value/stack_8/batch_normalization_1/moving_variance/Regularizer/add:0' shape=() dtype=float32>, <tf.Tensor 'zima_alphazero_value/stack_9/conv2d/kernel/Regularizer/add:0' shape=() dtype=float32>, <tf.Tensor 'zima_alphazero_value/stack_9/conv2d/bias/Regularizer/add:0' shape=() dtype=float32>, <tf.Tensor 'zima_alphazero_value/stack_9/batch_normalization/gamma/Regularizer/add:0' shape=() dtype=float32>, <tf.Tensor 'zima_alphazero_value/stack_9/batch_normalization/beta/Regularizer/add:0' shape=() dtype=float32>, <tf.Tensor 'zima_alphazero_value/stack_9/batch_normalization/moving_mean/Regularizer/add:0' shape=() dtype=float32>, <tf.Tensor 'zima_alphazero_value/stack_9/batch_normalization/moving_variance/Regularizer/add:0' shape=() dtype=float32>, <tf.Tensor 'zima_alphazero_value/stack_9/conv2d_1/kernel/Regularizer/add:0' shape=() dtype=float32>, <tf.Tensor 'zima_alphazero_value/stack_9/conv2d_1/bias/Regularizer/add:0' shape=() dtype=float32>, <tf.Tensor 'zima_alphazero_value/stack_9/batch_normalization_1/gamma/Regularizer/add:0' shape=() dtype=float32>, <tf.Tensor 'zima_alphazero_value/stack_9/batch_normalization_1/beta/Regularizer/add:0' shape=() dtype=float32>, <tf.Tensor 'zima_alphazero_value/stack_9/batch_normalization_1/moving_mean/Regularizer/add:0' shape=() dtype=float32>, <tf.Tensor 'zima_alphazero_value/stack_9/batch_normalization_1/moving_variance/Regularizer/add:0' shape=() dtype=float32>, <tf.Tensor 'zima_alphazero_value/stack_10/conv2d/kernel/Regularizer/add:0' shape=() dtype=float32>, <tf.Tensor 'zima_alphazero_value/stack_10/conv2d/bias/Regularizer/add:0' shape=() dtype=float32>, <tf.Tensor 'zima_alphazero_value/stack_10/batch_normalization/gamma/Regularizer/add:0' shape=() dtype=float32>, <tf.Tensor 'zima_alphazero_value/stack_10/batch_normalization/beta/Regularizer/add:0' shape=() dtype=float32>, <tf.Tensor 'zima_alphazero_value/stack_10/batch_normalization/moving_mean/Regularizer/add:0' shape=() dtype=float32>, <tf.Tensor 'zima_alphazero_value/stack_10/batch_normalization/moving_variance/Regularizer/add:0' shape=() dtype=float32>, <tf.Tensor 'zima_alphazero_value/stack_10/conv2d_1/kernel/Regularizer/add:0' shape=() dtype=float32>, <tf.Tensor 'zima_alphazero_value/stack_10/conv2d_1/bias/Regularizer/add:0' shape=() dtype=float32>, <tf.Tensor 'zima_alphazero_value/stack_10/batch_normalization_1/gamma/Regularizer/add:0' shape=() dtype=float32>, <tf.Tensor 'zima_alphazero_value/stack_10/batch_normalization_1/beta/Regularizer/add:0' shape=() dtype=float32>, <tf.Tensor 'zima_alphazero_value/stack_10/batch_normalization_1/moving_mean/Regularizer/add:0' shape=() dtype=float32>, <tf.Tensor 'zima_alphazero_value/stack_10/batch_normalization_1/moving_variance/Regularizer/add:0' shape=() dtype=float32>, <tf.Tensor 'zima_alphazero_value/stack_11/conv2d/kernel/Regularizer/add:0' shape=() dtype=float32>, <tf.Tensor 'zima_alphazero_value/stack_11/conv2d/bias/Regularizer/add:0' shape=() dtype=float32>, <tf.Tensor 'zima_alphazero_value/stack_11/batch_normalization/gamma/Regularizer/add:0' shape=() dtype=float32>, <tf.Tensor 'zima_alphazero_value/stack_11/batch_normalization/beta/Regularizer/add:0' shape=() dtype=float32>, <tf.Tensor 'zima_alphazero_value/stack_11/batch_normalization/moving_mean/Regularizer/add:0' shape=() dtype=float32>, <tf.Tensor 'zima_alphazero_value/stack_11/batch_normalization/moving_variance/Regularizer/add:0' shape=() dtype=float32>, <tf.Tensor 'zima_alphazero_value/stack_11/conv2d_1/kernel/Regularizer/add:0' shape=() dtype=float32>, <tf.Tensor 'zima_alphazero_value/stack_11/conv2d_1/bias/Regularizer/add:0' shape=() dtype=float32>, <tf.Tensor 'zima_alphazero_value/stack_11/batch_normalization_1/gamma/Regularizer/add:0' shape=() dtype=float32>, <tf.Tensor 'zima_alphazero_value/stack_11/batch_normalization_1/beta/Regularizer/add:0' shape=() dtype=float32>, <tf.Tensor 'zima_alphazero_value/stack_11/batch_normalization_1/moving_mean/Regularizer/add:0' shape=() dtype=float32>, <tf.Tensor 'zima_alphazero_value/stack_11/batch_normalization_1/moving_variance/Regularizer/add:0' shape=() dtype=float32>, <tf.Tensor 'zima_alphazero_value/stack_12/conv2d/kernel/Regularizer/add:0' shape=() dtype=float32>, <tf.Tensor 'zima_alphazero_value/stack_12/conv2d/bias/Regularizer/add:0' shape=() dtype=float32>, <tf.Tensor 'zima_alphazero_value/stack_12/batch_normalization/gamma/Regularizer/add:0' shape=() dtype=float32>, <tf.Tensor 'zima_alphazero_value/stack_12/batch_normalization/beta/Regularizer/add:0' shape=() dtype=float32>, <tf.Tensor 'zima_alphazero_value/stack_12/batch_normalization/moving_mean/Regularizer/add:0' shape=() dtype=float32>, <tf.Tensor 'zima_alphazero_value/stack_12/batch_normalization/moving_variance/Regularizer/add:0' shape=() dtype=float32>, <tf.Tensor 'zima_alphazero_value/stack_12/conv2d_1/kernel/Regularizer/add:0' shape=() dtype=float32>, <tf.Tensor 'zima_alphazero_value/stack_12/conv2d_1/bias/Regularizer/add:0' shape=() dtype=float32>, <tf.Tensor 'zima_alphazero_value/stack_12/batch_normalization_1/gamma/Regularizer/add:0' shape=() dtype=float32>, <tf.Tensor 'zima_alphazero_value/stack_12/batch_normalization_1/beta/Regularizer/add:0' shape=() dtype=float32>, <tf.Tensor 'zima_alphazero_value/stack_12/batch_normalization_1/moving_mean/Regularizer/add:0' shape=() dtype=float32>, <tf.Tensor 'zima_alphazero_value/stack_12/batch_normalization_1/moving_variance/Regularizer/add:0' shape=() dtype=float32>, <tf.Tensor 'zima_alphazero_value/stack_13/conv2d/kernel/Regularizer/add:0' shape=() dtype=float32>, <tf.Tensor 'zima_alphazero_value/stack_13/conv2d/bias/Regularizer/add:0' shape=() dtype=float32>, <tf.Tensor 'zima_alphazero_value/stack_13/batch_normalization/gamma/Regularizer/add:0' shape=() dtype=float32>, <tf.Tensor 'zima_alphazero_value/stack_13/batch_normalization/beta/Regularizer/add:0' shape=() dtype=float32>, <tf.Tensor 'zima_alphazero_value/stack_13/batch_normalization/moving_mean/Regularizer/add:0' shape=() dtype=float32>, <tf.Tensor 'zima_alphazero_value/stack_13/batch_normalization/moving_variance/Regularizer/add:0' shape=() dtype=float32>, <tf.Tensor 'zima_alphazero_value/stack_13/conv2d_1/kernel/Regularizer/add:0' shape=() dtype=float32>, <tf.Tensor 'zima_alphazero_value/stack_13/conv2d_1/bias/Regularizer/add:0' shape=() dtype=float32>, <tf.Tensor 'zima_alphazero_value/stack_13/batch_normalization_1/gamma/Regularizer/add:0' shape=() dtype=float32>, <tf.Tensor 'zima_alphazero_value/stack_13/batch_normalization_1/beta/Regularizer/add:0' shape=() dtype=float32>, <tf.Tensor 'zima_alphazero_value/stack_13/batch_normalization_1/moving_mean/Regularizer/add:0' shape=() dtype=float32>, <tf.Tensor 'zima_alphazero_value/stack_13/batch_normalization_1/moving_variance/Regularizer/add:0' shape=() dtype=float32>, <tf.Tensor 'zima_alphazero_value/stack_14/conv2d/kernel/Regularizer/add:0' shape=() dtype=float32>, <tf.Tensor 'zima_alphazero_value/stack_14/conv2d/bias/Regularizer/add:0' shape=() dtype=float32>, <tf.Tensor 'zima_alphazero_value/stack_14/batch_normalization/gamma/Regularizer/add:0' shape=() dtype=float32>, <tf.Tensor 'zima_alphazero_value/stack_14/batch_normalization/beta/Regularizer/add:0' shape=() dtype=float32>, <tf.Tensor 'zima_alphazero_value/stack_14/batch_normalization/moving_mean/Regularizer/add:0' shape=() dtype=float32>, <tf.Tensor 'zima_alphazero_value/stack_14/batch_normalization/moving_variance/Regularizer/add:0' shape=() dtype=float32>, <tf.Tensor 'zima_alphazero_value/stack_14/conv2d_1/kernel/Regularizer/add:0' shape=() dtype=float32>, <tf.Tensor 'zima_alphazero_value/stack_14/conv2d_1/bias/Regularizer/add:0' shape=() dtype=float32>, <tf.Tensor 'zima_alphazero_value/stack_14/batch_normalization_1/gamma/Regularizer/add:0' shape=() dtype=float32>, <tf.Tensor 'zima_alphazero_value/stack_14/batch_normalization_1/beta/Regularizer/add:0' shape=() dtype=float32>, <tf.Tensor 'zima_alphazero_value/stack_14/batch_normalization_1/moving_mean/Regularizer/add:0' shape=() dtype=float32>, <tf.Tensor 'zima_alphazero_value/stack_14/batch_normalization_1/moving_variance/Regularizer/add:0' shape=() dtype=float32>, <tf.Tensor 'zima_alphazero_value/stack_15/conv2d/kernel/Regularizer/add:0' shape=() dtype=float32>, <tf.Tensor 'zima_alphazero_value/stack_15/conv2d/bias/Regularizer/add:0' shape=() dtype=float32>, <tf.Tensor 'zima_alphazero_value/stack_15/batch_normalization/gamma/Regularizer/add:0' shape=() dtype=float32>, <tf.Tensor 'zima_alphazero_value/stack_15/batch_normalization/beta/Regularizer/add:0' shape=() dtype=float32>, <tf.Tensor 'zima_alphazero_value/stack_15/batch_normalization/moving_mean/Regularizer/add:0' shape=() dtype=float32>, <tf.Tensor 'zima_alphazero_value/stack_15/batch_normalization/moving_variance/Regularizer/add:0' shape=() dtype=float32>, <tf.Tensor 'zima_alphazero_value/stack_15/conv2d_1/kernel/Regularizer/add:0' shape=() dtype=float32>, <tf.Tensor 'zima_alphazero_value/stack_15/conv2d_1/bias/Regularizer/add:0' shape=() dtype=float32>, <tf.Tensor 'zima_alphazero_value/stack_15/batch_normalization_1/gamma/Regularizer/add:0' shape=() dtype=float32>, <tf.Tensor 'zima_alphazero_value/stack_15/batch_normalization_1/beta/Regularizer/add:0' shape=() dtype=float32>, <tf.Tensor 'zima_alphazero_value/stack_15/batch_normalization_1/moving_mean/Regularizer/add:0' shape=() dtype=float32>, <tf.Tensor 'zima_alphazero_value/stack_15/batch_normalization_1/moving_variance/Regularizer/add:0' shape=() dtype=float32>, <tf.Tensor 'zima_alphazero_value/stack_16/conv2d/kernel/Regularizer/add:0' shape=() dtype=float32>, <tf.Tensor 'zima_alphazero_value/stack_16/conv2d/bias/Regularizer/add:0' shape=() dtype=float32>, <tf.Tensor 'zima_alphazero_value/stack_16/batch_normalization/gamma/Regularizer/add:0' shape=() dtype=float32>, <tf.Tensor 'zima_alphazero_value/stack_16/batch_normalization/beta/Regularizer/add:0' shape=() dtype=float32>, <tf.Tensor 'zima_alphazero_value/stack_16/batch_normalization/moving_mean/Regularizer/add:0' shape=() dtype=float32>, <tf.Tensor 'zima_alphazero_value/stack_16/batch_normalization/moving_variance/Regularizer/add:0' shape=() dtype=float32>, <tf.Tensor 'zima_alphazero_value/stack_16/conv2d_1/kernel/Regularizer/add:0' shape=() dtype=float32>, <tf.Tensor 'zima_alphazero_value/stack_16/conv2d_1/bias/Regularizer/add:0' shape=() dtype=float32>, <tf.Tensor 'zima_alphazero_value/stack_16/batch_normalization_1/gamma/Regularizer/add:0' shape=() dtype=float32>, <tf.Tensor 'zima_alphazero_value/stack_16/batch_normalization_1/beta/Regularizer/add:0' shape=() dtype=float32>, <tf.Tensor 'zima_alphazero_value/stack_16/batch_normalization_1/moving_mean/Regularizer/add:0' shape=() dtype=float32>, <tf.Tensor 'zima_alphazero_value/stack_16/batch_normalization_1/moving_variance/Regularizer/add:0' shape=() dtype=float32>, <tf.Tensor 'zima_alphazero_value/stack_17/conv2d/kernel/Regularizer/add:0' shape=() dtype=float32>, <tf.Tensor 'zima_alphazero_value/stack_17/conv2d/bias/Regularizer/add:0' shape=() dtype=float32>, <tf.Tensor 'zima_alphazero_value/stack_17/batch_normalization/gamma/Regularizer/add:0' shape=() dtype=float32>, <tf.Tensor 'zima_alphazero_value/stack_17/batch_normalization/beta/Regularizer/add:0' shape=() dtype=float32>, <tf.Tensor 'zima_alphazero_value/stack_17/batch_normalization/moving_mean/Regularizer/add:0' shape=() dtype=float32>, <tf.Tensor 'zima_alphazero_value/stack_17/batch_normalization/moving_variance/Regularizer/add:0' shape=() dtype=float32>, <tf.Tensor 'zima_alphazero_value/stack_17/conv2d_1/kernel/Regularizer/add:0' shape=() dtype=float32>, <tf.Tensor 'zima_alphazero_value/stack_17/conv2d_1/bias/Regularizer/add:0' shape=() dtype=float32>, <tf.Tensor 'zima_alphazero_value/stack_17/batch_normalization_1/gamma/Regularizer/add:0' shape=() dtype=float32>, <tf.Tensor 'zima_alphazero_value/stack_17/batch_normalization_1/beta/Regularizer/add:0' shape=() dtype=float32>, <tf.Tensor 'zima_alphazero_value/stack_17/batch_normalization_1/moving_mean/Regularizer/add:0' shape=() dtype=float32>, <tf.Tensor 'zima_alphazero_value/stack_17/batch_normalization_1/moving_variance/Regularizer/add:0' shape=() dtype=float32>, <tf.Tensor 'zima_alphazero_value/stack_18/conv2d/kernel/Regularizer/add:0' shape=() dtype=float32>, <tf.Tensor 'zima_alphazero_value/stack_18/conv2d/bias/Regularizer/add:0' shape=() dtype=float32>, <tf.Tensor 'zima_alphazero_value/stack_18/batch_normalization/gamma/Regularizer/add:0' shape=() dtype=float32>, <tf.Tensor 'zima_alphazero_value/stack_18/batch_normalization/beta/Regularizer/add:0' shape=() dtype=float32>, <tf.Tensor 'zima_alphazero_value/stack_18/batch_normalization/moving_mean/Regularizer/add:0' shape=() dtype=float32>, <tf.Tensor 'zima_alphazero_value/stack_18/batch_normalization/moving_variance/Regularizer/add:0' shape=() dtype=float32>, <tf.Tensor 'zima_alphazero_value/stack_18/conv2d_1/kernel/Regularizer/add:0' shape=() dtype=float32>, <tf.Tensor 'zima_alphazero_value/stack_18/conv2d_1/bias/Regularizer/add:0' shape=() dtype=float32>, <tf.Tensor 'zima_alphazero_value/stack_18/batch_normalization_1/gamma/Regularizer/add:0' shape=() dtype=float32>, <tf.Tensor 'zima_alphazero_value/stack_18/batch_normalization_1/beta/Regularizer/add:0' shape=() dtype=float32>, <tf.Tensor 'zima_alphazero_value/stack_18/batch_normalization_1/moving_mean/Regularizer/add:0' shape=() dtype=float32>, <tf.Tensor 'zima_alphazero_value/stack_18/batch_normalization_1/moving_variance/Regularizer/add:0' shape=() dtype=float32>, <tf.Tensor 'zima_alphazero_value/conv2d_1/kernel/Regularizer/add:0' shape=() dtype=float32>, <tf.Tensor 'zima_alphazero_value/conv2d_1/bias/Regularizer/add:0' shape=() dtype=float32>, <tf.Tensor 'zima_alphazero_value/batch_normalization_1/gamma/Regularizer/add:0' shape=() dtype=float32>, <tf.Tensor 'zima_alphazero_value/batch_normalization_1/beta/Regularizer/add:0' shape=() dtype=float32>, <tf.Tensor 'zima_alphazero_value/batch_normalization_1/moving_mean/Regularizer/add:0' shape=() dtype=float32>, <tf.Tensor 'zima_alphazero_value/batch_normalization_1/moving_variance/Regularizer/add:0' shape=() dtype=float32>, <tf.Tensor 'zima_alphazero_value/dense/kernel/Regularizer/add:0' shape=() dtype=float32>, <tf.Tensor 'zima_alphazero_value/dense/bias/Regularizer/add:0' shape=() dtype=float32>, <tf.Tensor 'zima_alphazero_value/dense_1/kernel/Regularizer/add:0' shape=() dtype=float32>, <tf.Tensor 'zima_alphazero_value/dense_1/bias/Regularizer/add:0' shape=() dtype=float32>]\n",
      "Tensor(\"add_243:0\", shape=(), dtype=float32)\n"
     ]
    },
    {
     "name": "stdout",
     "output_type": "stream",
     "text": [
      "Tensor(\"add_488:0\", shape=(), dtype=float32)\n"
     ]
    }
   ],
   "source": [
    "tf.reset_default_graph()\n",
    "in_ = SimpleNamespace(\n",
    "    board = tf.placeholder(tf.uint8, [None, 8, 8, 25]),\n",
    "    value_target = tf.placeholder(tf.int32, [None,])\n",
    ")\n",
    "config = SimpleNamespace(\n",
    "    training = True,\n",
    "    reg_const = 0.002\n",
    ")\n",
    "value_network_alphazero(in_, config)"
   ]
  },
  {
   "cell_type": "code",
   "execution_count": 45,
   "metadata": {},
   "outputs": [
    {
     "data": {
      "text/plain": [
       "[<tf.Tensor 'zima_alphazero_value/conv2d/kernel/Regularizer/add:0' shape=() dtype=float32>,\n",
       " <tf.Tensor 'zima_alphazero_value/conv2d/bias/Regularizer/add:0' shape=() dtype=float32>,\n",
       " <tf.Tensor 'zima_alphazero_value/batch_normalization/gamma/Regularizer/add:0' shape=() dtype=float32>,\n",
       " <tf.Tensor 'zima_alphazero_value/batch_normalization/beta/Regularizer/add:0' shape=() dtype=float32>,\n",
       " <tf.Tensor 'zima_alphazero_value/batch_normalization/moving_mean/Regularizer/add:0' shape=() dtype=float32>,\n",
       " <tf.Tensor 'zima_alphazero_value/batch_normalization/moving_variance/Regularizer/add:0' shape=() dtype=float32>,\n",
       " <tf.Tensor 'zima_alphazero_value/stack_0/conv2d/kernel/Regularizer/add:0' shape=() dtype=float32>,\n",
       " <tf.Tensor 'zima_alphazero_value/stack_0/conv2d/bias/Regularizer/add:0' shape=() dtype=float32>,\n",
       " <tf.Tensor 'zima_alphazero_value/stack_0/batch_normalization/gamma/Regularizer/add:0' shape=() dtype=float32>,\n",
       " <tf.Tensor 'zima_alphazero_value/stack_0/batch_normalization/beta/Regularizer/add:0' shape=() dtype=float32>,\n",
       " <tf.Tensor 'zima_alphazero_value/stack_0/batch_normalization/moving_mean/Regularizer/add:0' shape=() dtype=float32>,\n",
       " <tf.Tensor 'zima_alphazero_value/stack_0/batch_normalization/moving_variance/Regularizer/add:0' shape=() dtype=float32>,\n",
       " <tf.Tensor 'zima_alphazero_value/stack_0/conv2d_1/kernel/Regularizer/add:0' shape=() dtype=float32>,\n",
       " <tf.Tensor 'zima_alphazero_value/stack_0/conv2d_1/bias/Regularizer/add:0' shape=() dtype=float32>,\n",
       " <tf.Tensor 'zima_alphazero_value/stack_0/batch_normalization_1/gamma/Regularizer/add:0' shape=() dtype=float32>,\n",
       " <tf.Tensor 'zima_alphazero_value/stack_0/batch_normalization_1/beta/Regularizer/add:0' shape=() dtype=float32>,\n",
       " <tf.Tensor 'zima_alphazero_value/stack_0/batch_normalization_1/moving_mean/Regularizer/add:0' shape=() dtype=float32>,\n",
       " <tf.Tensor 'zima_alphazero_value/stack_0/batch_normalization_1/moving_variance/Regularizer/add:0' shape=() dtype=float32>,\n",
       " <tf.Tensor 'zima_alphazero_value/stack_1/conv2d/kernel/Regularizer/add:0' shape=() dtype=float32>,\n",
       " <tf.Tensor 'zima_alphazero_value/stack_1/conv2d/bias/Regularizer/add:0' shape=() dtype=float32>,\n",
       " <tf.Tensor 'zima_alphazero_value/stack_1/batch_normalization/gamma/Regularizer/add:0' shape=() dtype=float32>,\n",
       " <tf.Tensor 'zima_alphazero_value/stack_1/batch_normalization/beta/Regularizer/add:0' shape=() dtype=float32>,\n",
       " <tf.Tensor 'zima_alphazero_value/stack_1/batch_normalization/moving_mean/Regularizer/add:0' shape=() dtype=float32>,\n",
       " <tf.Tensor 'zima_alphazero_value/stack_1/batch_normalization/moving_variance/Regularizer/add:0' shape=() dtype=float32>,\n",
       " <tf.Tensor 'zima_alphazero_value/stack_1/conv2d_1/kernel/Regularizer/add:0' shape=() dtype=float32>,\n",
       " <tf.Tensor 'zima_alphazero_value/stack_1/conv2d_1/bias/Regularizer/add:0' shape=() dtype=float32>,\n",
       " <tf.Tensor 'zima_alphazero_value/stack_1/batch_normalization_1/gamma/Regularizer/add:0' shape=() dtype=float32>,\n",
       " <tf.Tensor 'zima_alphazero_value/stack_1/batch_normalization_1/beta/Regularizer/add:0' shape=() dtype=float32>,\n",
       " <tf.Tensor 'zima_alphazero_value/stack_1/batch_normalization_1/moving_mean/Regularizer/add:0' shape=() dtype=float32>,\n",
       " <tf.Tensor 'zima_alphazero_value/stack_1/batch_normalization_1/moving_variance/Regularizer/add:0' shape=() dtype=float32>,\n",
       " <tf.Tensor 'zima_alphazero_value/stack_2/conv2d/kernel/Regularizer/add:0' shape=() dtype=float32>,\n",
       " <tf.Tensor 'zima_alphazero_value/stack_2/conv2d/bias/Regularizer/add:0' shape=() dtype=float32>,\n",
       " <tf.Tensor 'zima_alphazero_value/stack_2/batch_normalization/gamma/Regularizer/add:0' shape=() dtype=float32>,\n",
       " <tf.Tensor 'zima_alphazero_value/stack_2/batch_normalization/beta/Regularizer/add:0' shape=() dtype=float32>,\n",
       " <tf.Tensor 'zima_alphazero_value/stack_2/batch_normalization/moving_mean/Regularizer/add:0' shape=() dtype=float32>,\n",
       " <tf.Tensor 'zima_alphazero_value/stack_2/batch_normalization/moving_variance/Regularizer/add:0' shape=() dtype=float32>,\n",
       " <tf.Tensor 'zima_alphazero_value/stack_2/conv2d_1/kernel/Regularizer/add:0' shape=() dtype=float32>,\n",
       " <tf.Tensor 'zima_alphazero_value/stack_2/conv2d_1/bias/Regularizer/add:0' shape=() dtype=float32>,\n",
       " <tf.Tensor 'zima_alphazero_value/stack_2/batch_normalization_1/gamma/Regularizer/add:0' shape=() dtype=float32>,\n",
       " <tf.Tensor 'zima_alphazero_value/stack_2/batch_normalization_1/beta/Regularizer/add:0' shape=() dtype=float32>,\n",
       " <tf.Tensor 'zima_alphazero_value/stack_2/batch_normalization_1/moving_mean/Regularizer/add:0' shape=() dtype=float32>,\n",
       " <tf.Tensor 'zima_alphazero_value/stack_2/batch_normalization_1/moving_variance/Regularizer/add:0' shape=() dtype=float32>,\n",
       " <tf.Tensor 'zima_alphazero_value/stack_3/conv2d/kernel/Regularizer/add:0' shape=() dtype=float32>,\n",
       " <tf.Tensor 'zima_alphazero_value/stack_3/conv2d/bias/Regularizer/add:0' shape=() dtype=float32>,\n",
       " <tf.Tensor 'zima_alphazero_value/stack_3/batch_normalization/gamma/Regularizer/add:0' shape=() dtype=float32>,\n",
       " <tf.Tensor 'zima_alphazero_value/stack_3/batch_normalization/beta/Regularizer/add:0' shape=() dtype=float32>,\n",
       " <tf.Tensor 'zima_alphazero_value/stack_3/batch_normalization/moving_mean/Regularizer/add:0' shape=() dtype=float32>,\n",
       " <tf.Tensor 'zima_alphazero_value/stack_3/batch_normalization/moving_variance/Regularizer/add:0' shape=() dtype=float32>,\n",
       " <tf.Tensor 'zima_alphazero_value/stack_3/conv2d_1/kernel/Regularizer/add:0' shape=() dtype=float32>,\n",
       " <tf.Tensor 'zima_alphazero_value/stack_3/conv2d_1/bias/Regularizer/add:0' shape=() dtype=float32>,\n",
       " <tf.Tensor 'zima_alphazero_value/stack_3/batch_normalization_1/gamma/Regularizer/add:0' shape=() dtype=float32>,\n",
       " <tf.Tensor 'zima_alphazero_value/stack_3/batch_normalization_1/beta/Regularizer/add:0' shape=() dtype=float32>,\n",
       " <tf.Tensor 'zima_alphazero_value/stack_3/batch_normalization_1/moving_mean/Regularizer/add:0' shape=() dtype=float32>,\n",
       " <tf.Tensor 'zima_alphazero_value/stack_3/batch_normalization_1/moving_variance/Regularizer/add:0' shape=() dtype=float32>,\n",
       " <tf.Tensor 'zima_alphazero_value/stack_4/conv2d/kernel/Regularizer/add:0' shape=() dtype=float32>,\n",
       " <tf.Tensor 'zima_alphazero_value/stack_4/conv2d/bias/Regularizer/add:0' shape=() dtype=float32>,\n",
       " <tf.Tensor 'zima_alphazero_value/stack_4/batch_normalization/gamma/Regularizer/add:0' shape=() dtype=float32>,\n",
       " <tf.Tensor 'zima_alphazero_value/stack_4/batch_normalization/beta/Regularizer/add:0' shape=() dtype=float32>,\n",
       " <tf.Tensor 'zima_alphazero_value/stack_4/batch_normalization/moving_mean/Regularizer/add:0' shape=() dtype=float32>,\n",
       " <tf.Tensor 'zima_alphazero_value/stack_4/batch_normalization/moving_variance/Regularizer/add:0' shape=() dtype=float32>,\n",
       " <tf.Tensor 'zima_alphazero_value/stack_4/conv2d_1/kernel/Regularizer/add:0' shape=() dtype=float32>,\n",
       " <tf.Tensor 'zima_alphazero_value/stack_4/conv2d_1/bias/Regularizer/add:0' shape=() dtype=float32>,\n",
       " <tf.Tensor 'zima_alphazero_value/stack_4/batch_normalization_1/gamma/Regularizer/add:0' shape=() dtype=float32>,\n",
       " <tf.Tensor 'zima_alphazero_value/stack_4/batch_normalization_1/beta/Regularizer/add:0' shape=() dtype=float32>,\n",
       " <tf.Tensor 'zima_alphazero_value/stack_4/batch_normalization_1/moving_mean/Regularizer/add:0' shape=() dtype=float32>,\n",
       " <tf.Tensor 'zima_alphazero_value/stack_4/batch_normalization_1/moving_variance/Regularizer/add:0' shape=() dtype=float32>,\n",
       " <tf.Tensor 'zima_alphazero_value/stack_5/conv2d/kernel/Regularizer/add:0' shape=() dtype=float32>,\n",
       " <tf.Tensor 'zima_alphazero_value/stack_5/conv2d/bias/Regularizer/add:0' shape=() dtype=float32>,\n",
       " <tf.Tensor 'zima_alphazero_value/stack_5/batch_normalization/gamma/Regularizer/add:0' shape=() dtype=float32>,\n",
       " <tf.Tensor 'zima_alphazero_value/stack_5/batch_normalization/beta/Regularizer/add:0' shape=() dtype=float32>,\n",
       " <tf.Tensor 'zima_alphazero_value/stack_5/batch_normalization/moving_mean/Regularizer/add:0' shape=() dtype=float32>,\n",
       " <tf.Tensor 'zima_alphazero_value/stack_5/batch_normalization/moving_variance/Regularizer/add:0' shape=() dtype=float32>,\n",
       " <tf.Tensor 'zima_alphazero_value/stack_5/conv2d_1/kernel/Regularizer/add:0' shape=() dtype=float32>,\n",
       " <tf.Tensor 'zima_alphazero_value/stack_5/conv2d_1/bias/Regularizer/add:0' shape=() dtype=float32>,\n",
       " <tf.Tensor 'zima_alphazero_value/stack_5/batch_normalization_1/gamma/Regularizer/add:0' shape=() dtype=float32>,\n",
       " <tf.Tensor 'zima_alphazero_value/stack_5/batch_normalization_1/beta/Regularizer/add:0' shape=() dtype=float32>,\n",
       " <tf.Tensor 'zima_alphazero_value/stack_5/batch_normalization_1/moving_mean/Regularizer/add:0' shape=() dtype=float32>,\n",
       " <tf.Tensor 'zima_alphazero_value/stack_5/batch_normalization_1/moving_variance/Regularizer/add:0' shape=() dtype=float32>,\n",
       " <tf.Tensor 'zima_alphazero_value/stack_6/conv2d/kernel/Regularizer/add:0' shape=() dtype=float32>,\n",
       " <tf.Tensor 'zima_alphazero_value/stack_6/conv2d/bias/Regularizer/add:0' shape=() dtype=float32>,\n",
       " <tf.Tensor 'zima_alphazero_value/stack_6/batch_normalization/gamma/Regularizer/add:0' shape=() dtype=float32>,\n",
       " <tf.Tensor 'zima_alphazero_value/stack_6/batch_normalization/beta/Regularizer/add:0' shape=() dtype=float32>,\n",
       " <tf.Tensor 'zima_alphazero_value/stack_6/batch_normalization/moving_mean/Regularizer/add:0' shape=() dtype=float32>,\n",
       " <tf.Tensor 'zima_alphazero_value/stack_6/batch_normalization/moving_variance/Regularizer/add:0' shape=() dtype=float32>,\n",
       " <tf.Tensor 'zima_alphazero_value/stack_6/conv2d_1/kernel/Regularizer/add:0' shape=() dtype=float32>,\n",
       " <tf.Tensor 'zima_alphazero_value/stack_6/conv2d_1/bias/Regularizer/add:0' shape=() dtype=float32>,\n",
       " <tf.Tensor 'zima_alphazero_value/stack_6/batch_normalization_1/gamma/Regularizer/add:0' shape=() dtype=float32>,\n",
       " <tf.Tensor 'zima_alphazero_value/stack_6/batch_normalization_1/beta/Regularizer/add:0' shape=() dtype=float32>,\n",
       " <tf.Tensor 'zima_alphazero_value/stack_6/batch_normalization_1/moving_mean/Regularizer/add:0' shape=() dtype=float32>,\n",
       " <tf.Tensor 'zima_alphazero_value/stack_6/batch_normalization_1/moving_variance/Regularizer/add:0' shape=() dtype=float32>,\n",
       " <tf.Tensor 'zima_alphazero_value/stack_7/conv2d/kernel/Regularizer/add:0' shape=() dtype=float32>,\n",
       " <tf.Tensor 'zima_alphazero_value/stack_7/conv2d/bias/Regularizer/add:0' shape=() dtype=float32>,\n",
       " <tf.Tensor 'zima_alphazero_value/stack_7/batch_normalization/gamma/Regularizer/add:0' shape=() dtype=float32>,\n",
       " <tf.Tensor 'zima_alphazero_value/stack_7/batch_normalization/beta/Regularizer/add:0' shape=() dtype=float32>,\n",
       " <tf.Tensor 'zima_alphazero_value/stack_7/batch_normalization/moving_mean/Regularizer/add:0' shape=() dtype=float32>,\n",
       " <tf.Tensor 'zima_alphazero_value/stack_7/batch_normalization/moving_variance/Regularizer/add:0' shape=() dtype=float32>,\n",
       " <tf.Tensor 'zima_alphazero_value/stack_7/conv2d_1/kernel/Regularizer/add:0' shape=() dtype=float32>,\n",
       " <tf.Tensor 'zima_alphazero_value/stack_7/conv2d_1/bias/Regularizer/add:0' shape=() dtype=float32>,\n",
       " <tf.Tensor 'zima_alphazero_value/stack_7/batch_normalization_1/gamma/Regularizer/add:0' shape=() dtype=float32>,\n",
       " <tf.Tensor 'zima_alphazero_value/stack_7/batch_normalization_1/beta/Regularizer/add:0' shape=() dtype=float32>,\n",
       " <tf.Tensor 'zima_alphazero_value/stack_7/batch_normalization_1/moving_mean/Regularizer/add:0' shape=() dtype=float32>,\n",
       " <tf.Tensor 'zima_alphazero_value/stack_7/batch_normalization_1/moving_variance/Regularizer/add:0' shape=() dtype=float32>,\n",
       " <tf.Tensor 'zima_alphazero_value/stack_8/conv2d/kernel/Regularizer/add:0' shape=() dtype=float32>,\n",
       " <tf.Tensor 'zima_alphazero_value/stack_8/conv2d/bias/Regularizer/add:0' shape=() dtype=float32>,\n",
       " <tf.Tensor 'zima_alphazero_value/stack_8/batch_normalization/gamma/Regularizer/add:0' shape=() dtype=float32>,\n",
       " <tf.Tensor 'zima_alphazero_value/stack_8/batch_normalization/beta/Regularizer/add:0' shape=() dtype=float32>,\n",
       " <tf.Tensor 'zima_alphazero_value/stack_8/batch_normalization/moving_mean/Regularizer/add:0' shape=() dtype=float32>,\n",
       " <tf.Tensor 'zima_alphazero_value/stack_8/batch_normalization/moving_variance/Regularizer/add:0' shape=() dtype=float32>,\n",
       " <tf.Tensor 'zima_alphazero_value/stack_8/conv2d_1/kernel/Regularizer/add:0' shape=() dtype=float32>,\n",
       " <tf.Tensor 'zima_alphazero_value/stack_8/conv2d_1/bias/Regularizer/add:0' shape=() dtype=float32>,\n",
       " <tf.Tensor 'zima_alphazero_value/stack_8/batch_normalization_1/gamma/Regularizer/add:0' shape=() dtype=float32>,\n",
       " <tf.Tensor 'zima_alphazero_value/stack_8/batch_normalization_1/beta/Regularizer/add:0' shape=() dtype=float32>,\n",
       " <tf.Tensor 'zima_alphazero_value/stack_8/batch_normalization_1/moving_mean/Regularizer/add:0' shape=() dtype=float32>,\n",
       " <tf.Tensor 'zima_alphazero_value/stack_8/batch_normalization_1/moving_variance/Regularizer/add:0' shape=() dtype=float32>,\n",
       " <tf.Tensor 'zima_alphazero_value/stack_9/conv2d/kernel/Regularizer/add:0' shape=() dtype=float32>,\n",
       " <tf.Tensor 'zima_alphazero_value/stack_9/conv2d/bias/Regularizer/add:0' shape=() dtype=float32>,\n",
       " <tf.Tensor 'zima_alphazero_value/stack_9/batch_normalization/gamma/Regularizer/add:0' shape=() dtype=float32>,\n",
       " <tf.Tensor 'zima_alphazero_value/stack_9/batch_normalization/beta/Regularizer/add:0' shape=() dtype=float32>,\n",
       " <tf.Tensor 'zima_alphazero_value/stack_9/batch_normalization/moving_mean/Regularizer/add:0' shape=() dtype=float32>,\n",
       " <tf.Tensor 'zima_alphazero_value/stack_9/batch_normalization/moving_variance/Regularizer/add:0' shape=() dtype=float32>,\n",
       " <tf.Tensor 'zima_alphazero_value/stack_9/conv2d_1/kernel/Regularizer/add:0' shape=() dtype=float32>,\n",
       " <tf.Tensor 'zima_alphazero_value/stack_9/conv2d_1/bias/Regularizer/add:0' shape=() dtype=float32>,\n",
       " <tf.Tensor 'zima_alphazero_value/stack_9/batch_normalization_1/gamma/Regularizer/add:0' shape=() dtype=float32>,\n",
       " <tf.Tensor 'zima_alphazero_value/stack_9/batch_normalization_1/beta/Regularizer/add:0' shape=() dtype=float32>,\n",
       " <tf.Tensor 'zima_alphazero_value/stack_9/batch_normalization_1/moving_mean/Regularizer/add:0' shape=() dtype=float32>,\n",
       " <tf.Tensor 'zima_alphazero_value/stack_9/batch_normalization_1/moving_variance/Regularizer/add:0' shape=() dtype=float32>,\n",
       " <tf.Tensor 'zima_alphazero_value/stack_10/conv2d/kernel/Regularizer/add:0' shape=() dtype=float32>,\n",
       " <tf.Tensor 'zima_alphazero_value/stack_10/conv2d/bias/Regularizer/add:0' shape=() dtype=float32>,\n",
       " <tf.Tensor 'zima_alphazero_value/stack_10/batch_normalization/gamma/Regularizer/add:0' shape=() dtype=float32>,\n",
       " <tf.Tensor 'zima_alphazero_value/stack_10/batch_normalization/beta/Regularizer/add:0' shape=() dtype=float32>,\n",
       " <tf.Tensor 'zima_alphazero_value/stack_10/batch_normalization/moving_mean/Regularizer/add:0' shape=() dtype=float32>,\n",
       " <tf.Tensor 'zima_alphazero_value/stack_10/batch_normalization/moving_variance/Regularizer/add:0' shape=() dtype=float32>,\n",
       " <tf.Tensor 'zima_alphazero_value/stack_10/conv2d_1/kernel/Regularizer/add:0' shape=() dtype=float32>,\n",
       " <tf.Tensor 'zima_alphazero_value/stack_10/conv2d_1/bias/Regularizer/add:0' shape=() dtype=float32>,\n",
       " <tf.Tensor 'zima_alphazero_value/stack_10/batch_normalization_1/gamma/Regularizer/add:0' shape=() dtype=float32>,\n",
       " <tf.Tensor 'zima_alphazero_value/stack_10/batch_normalization_1/beta/Regularizer/add:0' shape=() dtype=float32>,\n",
       " <tf.Tensor 'zima_alphazero_value/stack_10/batch_normalization_1/moving_mean/Regularizer/add:0' shape=() dtype=float32>,\n",
       " <tf.Tensor 'zima_alphazero_value/stack_10/batch_normalization_1/moving_variance/Regularizer/add:0' shape=() dtype=float32>,\n",
       " <tf.Tensor 'zima_alphazero_value/stack_11/conv2d/kernel/Regularizer/add:0' shape=() dtype=float32>,\n",
       " <tf.Tensor 'zima_alphazero_value/stack_11/conv2d/bias/Regularizer/add:0' shape=() dtype=float32>,\n",
       " <tf.Tensor 'zima_alphazero_value/stack_11/batch_normalization/gamma/Regularizer/add:0' shape=() dtype=float32>,\n",
       " <tf.Tensor 'zima_alphazero_value/stack_11/batch_normalization/beta/Regularizer/add:0' shape=() dtype=float32>,\n",
       " <tf.Tensor 'zima_alphazero_value/stack_11/batch_normalization/moving_mean/Regularizer/add:0' shape=() dtype=float32>,\n",
       " <tf.Tensor 'zima_alphazero_value/stack_11/batch_normalization/moving_variance/Regularizer/add:0' shape=() dtype=float32>,\n",
       " <tf.Tensor 'zima_alphazero_value/stack_11/conv2d_1/kernel/Regularizer/add:0' shape=() dtype=float32>,\n",
       " <tf.Tensor 'zima_alphazero_value/stack_11/conv2d_1/bias/Regularizer/add:0' shape=() dtype=float32>,\n",
       " <tf.Tensor 'zima_alphazero_value/stack_11/batch_normalization_1/gamma/Regularizer/add:0' shape=() dtype=float32>,\n",
       " <tf.Tensor 'zima_alphazero_value/stack_11/batch_normalization_1/beta/Regularizer/add:0' shape=() dtype=float32>,\n",
       " <tf.Tensor 'zima_alphazero_value/stack_11/batch_normalization_1/moving_mean/Regularizer/add:0' shape=() dtype=float32>,\n",
       " <tf.Tensor 'zima_alphazero_value/stack_11/batch_normalization_1/moving_variance/Regularizer/add:0' shape=() dtype=float32>,\n",
       " <tf.Tensor 'zima_alphazero_value/stack_12/conv2d/kernel/Regularizer/add:0' shape=() dtype=float32>,\n",
       " <tf.Tensor 'zima_alphazero_value/stack_12/conv2d/bias/Regularizer/add:0' shape=() dtype=float32>,\n",
       " <tf.Tensor 'zima_alphazero_value/stack_12/batch_normalization/gamma/Regularizer/add:0' shape=() dtype=float32>,\n",
       " <tf.Tensor 'zima_alphazero_value/stack_12/batch_normalization/beta/Regularizer/add:0' shape=() dtype=float32>,\n",
       " <tf.Tensor 'zima_alphazero_value/stack_12/batch_normalization/moving_mean/Regularizer/add:0' shape=() dtype=float32>,\n",
       " <tf.Tensor 'zima_alphazero_value/stack_12/batch_normalization/moving_variance/Regularizer/add:0' shape=() dtype=float32>,\n",
       " <tf.Tensor 'zima_alphazero_value/stack_12/conv2d_1/kernel/Regularizer/add:0' shape=() dtype=float32>,\n",
       " <tf.Tensor 'zima_alphazero_value/stack_12/conv2d_1/bias/Regularizer/add:0' shape=() dtype=float32>,\n",
       " <tf.Tensor 'zima_alphazero_value/stack_12/batch_normalization_1/gamma/Regularizer/add:0' shape=() dtype=float32>,\n",
       " <tf.Tensor 'zima_alphazero_value/stack_12/batch_normalization_1/beta/Regularizer/add:0' shape=() dtype=float32>,\n",
       " <tf.Tensor 'zima_alphazero_value/stack_12/batch_normalization_1/moving_mean/Regularizer/add:0' shape=() dtype=float32>,\n",
       " <tf.Tensor 'zima_alphazero_value/stack_12/batch_normalization_1/moving_variance/Regularizer/add:0' shape=() dtype=float32>,\n",
       " <tf.Tensor 'zima_alphazero_value/stack_13/conv2d/kernel/Regularizer/add:0' shape=() dtype=float32>,\n",
       " <tf.Tensor 'zima_alphazero_value/stack_13/conv2d/bias/Regularizer/add:0' shape=() dtype=float32>,\n",
       " <tf.Tensor 'zima_alphazero_value/stack_13/batch_normalization/gamma/Regularizer/add:0' shape=() dtype=float32>,\n",
       " <tf.Tensor 'zima_alphazero_value/stack_13/batch_normalization/beta/Regularizer/add:0' shape=() dtype=float32>,\n",
       " <tf.Tensor 'zima_alphazero_value/stack_13/batch_normalization/moving_mean/Regularizer/add:0' shape=() dtype=float32>,\n",
       " <tf.Tensor 'zima_alphazero_value/stack_13/batch_normalization/moving_variance/Regularizer/add:0' shape=() dtype=float32>,\n",
       " <tf.Tensor 'zima_alphazero_value/stack_13/conv2d_1/kernel/Regularizer/add:0' shape=() dtype=float32>,\n",
       " <tf.Tensor 'zima_alphazero_value/stack_13/conv2d_1/bias/Regularizer/add:0' shape=() dtype=float32>,\n",
       " <tf.Tensor 'zima_alphazero_value/stack_13/batch_normalization_1/gamma/Regularizer/add:0' shape=() dtype=float32>,\n",
       " <tf.Tensor 'zima_alphazero_value/stack_13/batch_normalization_1/beta/Regularizer/add:0' shape=() dtype=float32>,\n",
       " <tf.Tensor 'zima_alphazero_value/stack_13/batch_normalization_1/moving_mean/Regularizer/add:0' shape=() dtype=float32>,\n",
       " <tf.Tensor 'zima_alphazero_value/stack_13/batch_normalization_1/moving_variance/Regularizer/add:0' shape=() dtype=float32>,\n",
       " <tf.Tensor 'zima_alphazero_value/stack_14/conv2d/kernel/Regularizer/add:0' shape=() dtype=float32>,\n",
       " <tf.Tensor 'zima_alphazero_value/stack_14/conv2d/bias/Regularizer/add:0' shape=() dtype=float32>,\n",
       " <tf.Tensor 'zima_alphazero_value/stack_14/batch_normalization/gamma/Regularizer/add:0' shape=() dtype=float32>,\n",
       " <tf.Tensor 'zima_alphazero_value/stack_14/batch_normalization/beta/Regularizer/add:0' shape=() dtype=float32>,\n",
       " <tf.Tensor 'zima_alphazero_value/stack_14/batch_normalization/moving_mean/Regularizer/add:0' shape=() dtype=float32>,\n",
       " <tf.Tensor 'zima_alphazero_value/stack_14/batch_normalization/moving_variance/Regularizer/add:0' shape=() dtype=float32>,\n",
       " <tf.Tensor 'zima_alphazero_value/stack_14/conv2d_1/kernel/Regularizer/add:0' shape=() dtype=float32>,\n",
       " <tf.Tensor 'zima_alphazero_value/stack_14/conv2d_1/bias/Regularizer/add:0' shape=() dtype=float32>,\n",
       " <tf.Tensor 'zima_alphazero_value/stack_14/batch_normalization_1/gamma/Regularizer/add:0' shape=() dtype=float32>,\n",
       " <tf.Tensor 'zima_alphazero_value/stack_14/batch_normalization_1/beta/Regularizer/add:0' shape=() dtype=float32>,\n",
       " <tf.Tensor 'zima_alphazero_value/stack_14/batch_normalization_1/moving_mean/Regularizer/add:0' shape=() dtype=float32>,\n",
       " <tf.Tensor 'zima_alphazero_value/stack_14/batch_normalization_1/moving_variance/Regularizer/add:0' shape=() dtype=float32>,\n",
       " <tf.Tensor 'zima_alphazero_value/stack_15/conv2d/kernel/Regularizer/add:0' shape=() dtype=float32>,\n",
       " <tf.Tensor 'zima_alphazero_value/stack_15/conv2d/bias/Regularizer/add:0' shape=() dtype=float32>,\n",
       " <tf.Tensor 'zima_alphazero_value/stack_15/batch_normalization/gamma/Regularizer/add:0' shape=() dtype=float32>,\n",
       " <tf.Tensor 'zima_alphazero_value/stack_15/batch_normalization/beta/Regularizer/add:0' shape=() dtype=float32>,\n",
       " <tf.Tensor 'zima_alphazero_value/stack_15/batch_normalization/moving_mean/Regularizer/add:0' shape=() dtype=float32>,\n",
       " <tf.Tensor 'zima_alphazero_value/stack_15/batch_normalization/moving_variance/Regularizer/add:0' shape=() dtype=float32>,\n",
       " <tf.Tensor 'zima_alphazero_value/stack_15/conv2d_1/kernel/Regularizer/add:0' shape=() dtype=float32>,\n",
       " <tf.Tensor 'zima_alphazero_value/stack_15/conv2d_1/bias/Regularizer/add:0' shape=() dtype=float32>,\n",
       " <tf.Tensor 'zima_alphazero_value/stack_15/batch_normalization_1/gamma/Regularizer/add:0' shape=() dtype=float32>,\n",
       " <tf.Tensor 'zima_alphazero_value/stack_15/batch_normalization_1/beta/Regularizer/add:0' shape=() dtype=float32>,\n",
       " <tf.Tensor 'zima_alphazero_value/stack_15/batch_normalization_1/moving_mean/Regularizer/add:0' shape=() dtype=float32>,\n",
       " <tf.Tensor 'zima_alphazero_value/stack_15/batch_normalization_1/moving_variance/Regularizer/add:0' shape=() dtype=float32>,\n",
       " <tf.Tensor 'zima_alphazero_value/stack_16/conv2d/kernel/Regularizer/add:0' shape=() dtype=float32>,\n",
       " <tf.Tensor 'zima_alphazero_value/stack_16/conv2d/bias/Regularizer/add:0' shape=() dtype=float32>,\n",
       " <tf.Tensor 'zima_alphazero_value/stack_16/batch_normalization/gamma/Regularizer/add:0' shape=() dtype=float32>,\n",
       " <tf.Tensor 'zima_alphazero_value/stack_16/batch_normalization/beta/Regularizer/add:0' shape=() dtype=float32>,\n",
       " <tf.Tensor 'zima_alphazero_value/stack_16/batch_normalization/moving_mean/Regularizer/add:0' shape=() dtype=float32>,\n",
       " <tf.Tensor 'zima_alphazero_value/stack_16/batch_normalization/moving_variance/Regularizer/add:0' shape=() dtype=float32>,\n",
       " <tf.Tensor 'zima_alphazero_value/stack_16/conv2d_1/kernel/Regularizer/add:0' shape=() dtype=float32>,\n",
       " <tf.Tensor 'zima_alphazero_value/stack_16/conv2d_1/bias/Regularizer/add:0' shape=() dtype=float32>,\n",
       " <tf.Tensor 'zima_alphazero_value/stack_16/batch_normalization_1/gamma/Regularizer/add:0' shape=() dtype=float32>,\n",
       " <tf.Tensor 'zima_alphazero_value/stack_16/batch_normalization_1/beta/Regularizer/add:0' shape=() dtype=float32>,\n",
       " <tf.Tensor 'zima_alphazero_value/stack_16/batch_normalization_1/moving_mean/Regularizer/add:0' shape=() dtype=float32>,\n",
       " <tf.Tensor 'zima_alphazero_value/stack_16/batch_normalization_1/moving_variance/Regularizer/add:0' shape=() dtype=float32>,\n",
       " <tf.Tensor 'zima_alphazero_value/stack_17/conv2d/kernel/Regularizer/add:0' shape=() dtype=float32>,\n",
       " <tf.Tensor 'zima_alphazero_value/stack_17/conv2d/bias/Regularizer/add:0' shape=() dtype=float32>,\n",
       " <tf.Tensor 'zima_alphazero_value/stack_17/batch_normalization/gamma/Regularizer/add:0' shape=() dtype=float32>,\n",
       " <tf.Tensor 'zima_alphazero_value/stack_17/batch_normalization/beta/Regularizer/add:0' shape=() dtype=float32>,\n",
       " <tf.Tensor 'zima_alphazero_value/stack_17/batch_normalization/moving_mean/Regularizer/add:0' shape=() dtype=float32>,\n",
       " <tf.Tensor 'zima_alphazero_value/stack_17/batch_normalization/moving_variance/Regularizer/add:0' shape=() dtype=float32>,\n",
       " <tf.Tensor 'zima_alphazero_value/stack_17/conv2d_1/kernel/Regularizer/add:0' shape=() dtype=float32>,\n",
       " <tf.Tensor 'zima_alphazero_value/stack_17/conv2d_1/bias/Regularizer/add:0' shape=() dtype=float32>,\n",
       " <tf.Tensor 'zima_alphazero_value/stack_17/batch_normalization_1/gamma/Regularizer/add:0' shape=() dtype=float32>,\n",
       " <tf.Tensor 'zima_alphazero_value/stack_17/batch_normalization_1/beta/Regularizer/add:0' shape=() dtype=float32>,\n",
       " <tf.Tensor 'zima_alphazero_value/stack_17/batch_normalization_1/moving_mean/Regularizer/add:0' shape=() dtype=float32>,\n",
       " <tf.Tensor 'zima_alphazero_value/stack_17/batch_normalization_1/moving_variance/Regularizer/add:0' shape=() dtype=float32>,\n",
       " <tf.Tensor 'zima_alphazero_value/stack_18/conv2d/kernel/Regularizer/add:0' shape=() dtype=float32>,\n",
       " <tf.Tensor 'zima_alphazero_value/stack_18/conv2d/bias/Regularizer/add:0' shape=() dtype=float32>,\n",
       " <tf.Tensor 'zima_alphazero_value/stack_18/batch_normalization/gamma/Regularizer/add:0' shape=() dtype=float32>,\n",
       " <tf.Tensor 'zima_alphazero_value/stack_18/batch_normalization/beta/Regularizer/add:0' shape=() dtype=float32>,\n",
       " <tf.Tensor 'zima_alphazero_value/stack_18/batch_normalization/moving_mean/Regularizer/add:0' shape=() dtype=float32>,\n",
       " <tf.Tensor 'zima_alphazero_value/stack_18/batch_normalization/moving_variance/Regularizer/add:0' shape=() dtype=float32>,\n",
       " <tf.Tensor 'zima_alphazero_value/stack_18/conv2d_1/kernel/Regularizer/add:0' shape=() dtype=float32>,\n",
       " <tf.Tensor 'zima_alphazero_value/stack_18/conv2d_1/bias/Regularizer/add:0' shape=() dtype=float32>,\n",
       " <tf.Tensor 'zima_alphazero_value/stack_18/batch_normalization_1/gamma/Regularizer/add:0' shape=() dtype=float32>,\n",
       " <tf.Tensor 'zima_alphazero_value/stack_18/batch_normalization_1/beta/Regularizer/add:0' shape=() dtype=float32>,\n",
       " <tf.Tensor 'zima_alphazero_value/stack_18/batch_normalization_1/moving_mean/Regularizer/add:0' shape=() dtype=float32>,\n",
       " <tf.Tensor 'zima_alphazero_value/stack_18/batch_normalization_1/moving_variance/Regularizer/add:0' shape=() dtype=float32>,\n",
       " <tf.Tensor 'zima_alphazero_value/conv2d_1/kernel/Regularizer/add:0' shape=() dtype=float32>,\n",
       " <tf.Tensor 'zima_alphazero_value/conv2d_1/bias/Regularizer/add:0' shape=() dtype=float32>,\n",
       " <tf.Tensor 'zima_alphazero_value/batch_normalization_1/gamma/Regularizer/add:0' shape=() dtype=float32>,\n",
       " <tf.Tensor 'zima_alphazero_value/batch_normalization_1/beta/Regularizer/add:0' shape=() dtype=float32>,\n",
       " <tf.Tensor 'zima_alphazero_value/batch_normalization_1/moving_mean/Regularizer/add:0' shape=() dtype=float32>,\n",
       " <tf.Tensor 'zima_alphazero_value/batch_normalization_1/moving_variance/Regularizer/add:0' shape=() dtype=float32>,\n",
       " <tf.Tensor 'zima_alphazero_value/dense/kernel/Regularizer/add:0' shape=() dtype=float32>,\n",
       " <tf.Tensor 'zima_alphazero_value/dense/bias/Regularizer/add:0' shape=() dtype=float32>,\n",
       " <tf.Tensor 'zima_alphazero_value/dense_1/kernel/Regularizer/add:0' shape=() dtype=float32>,\n",
       " <tf.Tensor 'zima_alphazero_value/dense_1/bias/Regularizer/add:0' shape=() dtype=float32>]"
      ]
     },
     "execution_count": 45,
     "metadata": {},
     "output_type": "execute_result"
    }
   ],
   "source": [
    "tf.get_collection(tf.GraphKeys.REGULARIZATION_LOSSES)"
   ]
  },
  {
   "cell_type": "code",
   "execution_count": 13,
   "metadata": {},
   "outputs": [],
   "source": [
    "def get_lr_strategy(lr_init, lr_drops, global_step):\n",
    "    lrs = [lr_init/10**(drop + 1) for drop in range(len(lr_drops))]\n",
    "    lr = tf.constant(lr_init)\n",
    "    for lr_updated, lr_step in zip(lrs, lr_drops):\n",
    "        lr = tf.cond(global_step > lr_step, lambda: tf.constant(lr_updated), lambda: lr)\n",
    "    return lr"
   ]
  },
  {
   "cell_type": "code",
   "execution_count": 17,
   "metadata": {},
   "outputs": [
    {
     "name": "stdout",
     "output_type": "stream",
     "text": [
      "<tf.Variable 'global_step:0' shape=() dtype=int64_ref>\n",
      "[0.02, 0.002, 0.0002]\n",
      "----- Tensor(\"cond/Merge:0\", shape=(), dtype=float32) 0.02 100\n",
      "----- Tensor(\"cond_1/Merge:0\", shape=(), dtype=float32) 0.002 300\n",
      "----- Tensor(\"cond_2/Merge:0\", shape=(), dtype=float32) 0.0002 500\n",
      "Tensor(\"cond_2/Merge:0\", shape=(), dtype=float32)\n"
     ]
    }
   ],
   "source": [
    "tf.reset_default_graph()\n",
    "\n",
    "lr_init = 0.2\n",
    "lr_drops = [100,300,500]\n",
    "global_step = tf.train.get_or_create_global_step()\n",
    "\n",
    "# lrs = [lr_init/10**(drop + 1) for drop in range(len(lr_drops))]\n",
    "# print(lrs)\n",
    "# print(list(zip(lr_drops[::-1], lrs[::-1])))\n",
    "# cases = []\n",
    "# for lr, lr_step in zip(lrs[::-1], lr_drops[::-1]):\n",
    "#     print(lr, lr_step)\n",
    "#     cases.append(tf.greater_equal(global_step, lr_))\n",
    "\n",
    "print(global_step)\n",
    "lr = get_lr_strategy(lr_init, lr_drops, global_step)\n",
    "# lr = noam_scheme(0.2, global_step, 300)\n",
    "print(lr)\n",
    "\n",
    "def simple_net(x, y, lr, gs):\n",
    "    x = tf.matmul(x, tf.get_variable(\"weights\", shape = [3, 4]))\n",
    "    train_step = tf.train.GradientDescentOptimizer(lr).minimize(y - x, gs)\n",
    "    return train_step\n",
    "\n",
    "x = tf.placeholder(tf.float32, [None, 3])\n",
    "y = tf.placeholder(tf.float32, [None, 4])\n",
    "train_step = simple_net(x, y, lr, global_step)"
   ]
  },
  {
   "cell_type": "code",
   "execution_count": 18,
   "metadata": {},
   "outputs": [],
   "source": [
    "lr_values = []\n",
    "with tf.Session() as sess:\n",
    "    sess.run(tf.global_variables_initializer())\n",
    "    for i in range(1000):\n",
    "        _lr, _, _gs = sess.run([lr, train_step , global_step],\n",
    "                               {x: np.random.uniform(size = [4, 3]),\n",
    "                                y: np.random.uniform(size = [4, 4])})\n",
    "        lr_values.append(_lr)\n"
   ]
  },
  {
   "cell_type": "code",
   "execution_count": 19,
   "metadata": {},
   "outputs": [
    {
     "data": {
      "text/plain": [
       "[<matplotlib.lines.Line2D at 0x1340cb510>]"
      ]
     },
     "execution_count": 19,
     "metadata": {},
     "output_type": "execute_result"
    },
    {
     "data": {
      "image/png": "[encoded data removed]",
      "text/plain": [
       "<Figure size 576x432 with 1 Axes>"
      ]
     },
     "metadata": {
      "needs_background": "light"
     },
     "output_type": "display_data"
    }
   ],
   "source": [
    "plt.figure(figsize = (8, 6))\n",
    "plt.plot(lr_values)"
   ]
  },
  {
   "cell_type": "code",
   "execution_count": 80,
   "metadata": {},
   "outputs": [
    {
     "name": "stdout",
     "output_type": "stream",
     "text": [
      "Tensor(\"case/cond/Merge:0\", shape=(), dtype=int32)\n"
     ]
    }
   ],
   "source": [
    "x = 12\n",
    "y = 15\n",
    "z = 18\n",
    "\n",
    "def f1(): return tf.constant(17)\n",
    "def f2(): return tf.constant(23)\n",
    "def f3(): return tf.constant(-1)\n",
    "r = tf.case([(tf.less(x, y), f1), (tf.greater(x, z), f2)],\n",
    "         default=f3, exclusive=True)\n",
    "print(r)"
   ]
  },
  {
   "cell_type": "code",
   "execution_count": null,
   "metadata": {},
   "outputs": [],
   "source": []
  },
  {
   "cell_type": "code",
   "execution_count": null,
   "metadata": {},
   "outputs": [],
   "source": []
  },
  {
   "cell_type": "code",
   "execution_count": null,
   "metadata": {},
   "outputs": [],
   "source": []
  },
  {
   "cell_type": "code",
   "execution_count": 59,
   "metadata": {},
   "outputs": [],
   "source": [
    "def noam_scheme(init_lr, global_step, warmup_steps=4000.):\n",
    "    step = tf.cast(global_step + 1, dtype=tf.float32)\n",
    "    return init_lr * warmup_steps ** 0.5 * tf.minimum(step * warmup_steps ** -1.5, step ** -0.5)"
   ]
  },
  {
   "cell_type": "code",
   "execution_count": 60,
   "metadata": {},
   "outputs": [
    {
     "data": {
      "text/plain": [
       "<tf.Tensor 'mul_2:0' shape=() dtype=float32>"
      ]
     },
     "execution_count": 60,
     "metadata": {},
     "output_type": "execute_result"
    }
   ],
   "source": [
    "noam_scheme(0.2, 0)"
   ]
  },
  {
   "cell_type": "code",
   "execution_count": 8,
   "metadata": {},
   "outputs": [
    {
     "name": "stdout",
     "output_type": "stream",
     "text": [
      "<><><><><><><><><><><> fpath: KB_small.pgn\n"
     ]
    }
   ],
   "source": [
    "def load_data(fpath):\n",
    "    start_time = time.time()\n",
    "    game_strings = []\n",
    "    print(f'<><><><><><><><><><><> fpath: {fpath}')\n",
    "    all_lines = open(fpath, 'r', encoding='utf-8').readlines()\n",
    "    this_game = ''\n",
    "    for line_idx, line in enumerate(all_lines):\n",
    "        this_game += line\n",
    "        if line.split() and line.split()[-1] in ['0-1', '1-0', '1/2-1/2']:\n",
    "            game_strings.append(str(this_game))\n",
    "            this_game = ''\n",
    "#     print(\n",
    "#         f'-------------------- it took {time.time() - start_time}s to load the completely load the dataset')\n",
    "#     print(f'--------------- Number of Samples: {len(game_strings)}')\n",
    "#     print(f'--------------  return object type: {type(game_strings)}')\n",
    "    return list(game_strings)\n",
    "\n",
    "game_strings = load_data('KB_small.pgn')"
   ]
  },
  {
   "cell_type": "code",
   "execution_count": 52,
   "metadata": {
    "scrolled": false
   },
   "outputs": [
    {
     "name": "stdout",
     "output_type": "stream",
     "text": [
      "4\n",
      "<><><><><><><><><><><> fpath: KB_small.pgn\n",
      "ININTINTITNITNITNTITN rnbqkbnr/pppppppp/8/8/8/8/PPPPPPPP/RNBQKBNR w KQkq - 0 1\n",
      "-----> 1 -1\n",
      "\n",
      "-------------\n",
      "rnbqkbnr/pppppppp/8/8/8/8/PPPPPPPP/RNBQKBNR w KQkq - 0 1\n",
      "rnbqkbnr/pppppppp/8/8/3P4/8/PPP1PPPP/RNBQKBNR b KQkq - 0 1\n",
      "22222222222\n",
      "\n",
      "-------------\n",
      "rnbqkbnr/pppppppp/8/8/3P4/8/PPP1PPPP/RNBQKBNR b KQkq - 0 1\n",
      "rnbqkb1r/pppppppp/5n2/8/3P4/8/PPP1PPPP/RNBQKBNR w KQkq - 1 2\n",
      "22222222222\n",
      "\n",
      "-------------\n",
      "rnbqkb1r/pppppppp/5n2/8/3P4/8/PPP1PPPP/RNBQKBNR w KQkq - 1 2\n",
      "rnbqkb1r/pppppppp/5n2/6B1/3P4/8/PPP1PPPP/RN1QKBNR b KQkq - 2 2\n",
      "11111111111\n",
      "\n",
      "-------------\n",
      "rnbqkb1r/pppppppp/5n2/6B1/3P4/8/PPP1PPPP/RN1QKBNR b KQkq - 2 2\n",
      "rnbqkb1r/pp1ppppp/5n2/2p3B1/3P4/8/PPP1PPPP/RN1QKBNR w KQkq - 0 3\n",
      "11111111111\n",
      "\n",
      "-------------\n",
      "rnbqkb1r/pp1ppppp/5n2/2p3B1/3P4/8/PPP1PPPP/RN1QKBNR w KQkq - 0 3\n",
      "rnbqkb1r/pp1ppppp/5B2/2p5/3P4/8/PPP1PPPP/RN1QKBNR b KQkq - 0 3\n",
      "11111111111\n",
      "\n",
      "-------------\n",
      "rnbqkb1r/pp1ppppp/5B2/2p5/3P4/8/PPP1PPPP/RN1QKBNR b KQkq - 0 3\n",
      "rnbqkb1r/pp1ppp1p/5p2/2p5/3P4/8/PPP1PPPP/RN1QKBNR w KQkq - 0 4\n",
      "11111111111\n",
      "------- 5\n",
      "(8, 8, 20) -1.0\n"
     ]
    }
   ],
   "source": [
    "RESULT_VALUE = {'0-1': -1, '1/2-1/2':0, '1-0': 1}\n",
    "\n",
    "def generator_fn(file_paths, gram_size=3):\n",
    "    print(gram_size)\n",
    "    games_buffer = collections.deque()\n",
    "    for fpath in file_paths:\n",
    "        for game_string in load_data(fpath):\n",
    "            try:\n",
    "                game = chess.pgn.read_game(\n",
    "                    io.StringIO(game_string.decode('utf-8')))\n",
    "            except:\n",
    "                game = chess.pgn.read_game(io.StringIO(game_string))\n",
    "            board = game.board()\n",
    "            game_result = RESULT_VALUE[game.headers['Result']]\n",
    "            player_old = 1\n",
    "            print('ININTINTITNITNITNTITN', board.fen())\n",
    "            print('----->', board.turn * 1, game_result)\n",
    "            for midx, move in enumerate(game.mainline_moves()):\n",
    "                print('\\n-------------')\n",
    "                print(board.fen())\n",
    "                if midx == 0:\n",
    "                    games_buffer.appendleft(board.fen())\n",
    "                board.push(move)\n",
    "                print(board.fen())\n",
    "                games_buffer.appendleft(board.fen())\n",
    "#                 print(len(games_buffer))\n",
    "                game_result *= -1.\n",
    "                if len(games_buffer) == gram_size:\n",
    "                    print('11111111111')\n",
    "                    games = list(games_buffer)\n",
    "                    game_states = [engine.make_state(game, player_layer=True) for game in games]\n",
    "                    target_state = game_states[0]\n",
    "                    for game in game_states[1:]:\n",
    "                        target_state = np.append(target_state, game, axis = -1)\n",
    "#                     print('1,', target_state.shape)\n",
    "                    yield target_state, game_result\n",
    "                    games_buffer.pop()\n",
    "\n",
    "                elif len(games_buffer) < gram_size:\n",
    "                    print('22222222222')\n",
    "                    # stack with zeros is the idea\n",
    "                    games = list(games_buffer)\n",
    "                    game_states = [engine.make_state(game, player_layer=True) for game in games]\n",
    "                    target_state = game_states[0]\n",
    "                    for game in game_states[1:]:\n",
    "                        target_state = np.append(target_state, game, axis = -1)\n",
    "                    for _ in range(gram_size - len(games_buffer)):\n",
    "                        target_state = np.append(target_state, np.zeros(shape = (8, 8, 5)), axis = -1)\n",
    "#                     print('2,', target_state.shape)\n",
    "                    yield target_state, game_result\n",
    "\n",
    "\n",
    "for gen_idx, gen in enumerate(generator_fn(['KB_small.pgn'], 4)):\n",
    "    if 10 > gen_idx > 4:\n",
    "        print('-------', gen_idx)\n",
    "        print(gen[0].shape, gen[1])\n",
    "        break"
   ]
  },
  {
   "cell_type": "code",
   "execution_count": 20,
   "metadata": {},
   "outputs": [
    {
     "ename": "NameError",
     "evalue": "name 'np' is not defined",
     "output_type": "error",
     "traceback": [
      "\u001b[0;31m---------------------------------------------------------------------------\u001b[0m",
      "\u001b[0;31mNameError\u001b[0m                                 Traceback (most recent call last)",
      "\u001b[0;32m<ipython-input-20-b60dbdccd72a>\u001b[0m in \u001b[0;36m<module>\u001b[0;34m\u001b[0m\n\u001b[0;32m----> 1\u001b[0;31m \u001b[0mx\u001b[0m \u001b[0;34m=\u001b[0m \u001b[0mnp\u001b[0m\u001b[0;34m.\u001b[0m\u001b[0mrandom\u001b[0m\u001b[0;34m.\u001b[0m\u001b[0muniform\u001b[0m\u001b[0;34m(\u001b[0m\u001b[0msize\u001b[0m \u001b[0;34m=\u001b[0m \u001b[0;34m(\u001b[0m\u001b[0;36m2\u001b[0m\u001b[0;34m,\u001b[0m\u001b[0;36m2\u001b[0m\u001b[0;34m,\u001b[0m\u001b[0;36m3\u001b[0m\u001b[0;34m)\u001b[0m\u001b[0;34m)\u001b[0m\u001b[0;34m\u001b[0m\u001b[0;34m\u001b[0m\u001b[0m\n\u001b[0m\u001b[1;32m      2\u001b[0m \u001b[0;32mfor\u001b[0m \u001b[0m_\u001b[0m \u001b[0;32min\u001b[0m \u001b[0mrange\u001b[0m\u001b[0;34m(\u001b[0m\u001b[0;36m4\u001b[0m\u001b[0;34m)\u001b[0m\u001b[0;34m:\u001b[0m\u001b[0;34m\u001b[0m\u001b[0;34m\u001b[0m\u001b[0m\n\u001b[1;32m      3\u001b[0m     \u001b[0mx\u001b[0m \u001b[0;34m=\u001b[0m \u001b[0mnp\u001b[0m\u001b[0;34m.\u001b[0m\u001b[0mappend\u001b[0m\u001b[0;34m(\u001b[0m\u001b[0mx\u001b[0m\u001b[0;34m,\u001b[0m \u001b[0mnp\u001b[0m\u001b[0;34m.\u001b[0m\u001b[0mzeros\u001b[0m\u001b[0;34m(\u001b[0m\u001b[0;34m(\u001b[0m\u001b[0;36m2\u001b[0m\u001b[0;34m,\u001b[0m \u001b[0;36m2\u001b[0m\u001b[0;34m,\u001b[0m \u001b[0;36m3\u001b[0m\u001b[0;34m)\u001b[0m\u001b[0;34m)\u001b[0m\u001b[0;34m,\u001b[0m \u001b[0maxis\u001b[0m \u001b[0;34m=\u001b[0m \u001b[0;34m-\u001b[0m\u001b[0;36m1\u001b[0m\u001b[0;34m)\u001b[0m\u001b[0;34m\u001b[0m\u001b[0;34m\u001b[0m\u001b[0m\n\u001b[1;32m      4\u001b[0m     \u001b[0mprint\u001b[0m\u001b[0;34m(\u001b[0m\u001b[0mx\u001b[0m\u001b[0;34m.\u001b[0m\u001b[0mshape\u001b[0m\u001b[0;34m)\u001b[0m\u001b[0;34m\u001b[0m\u001b[0;34m\u001b[0m\u001b[0m\n\u001b[1;32m      5\u001b[0m     \u001b[0mprint\u001b[0m\u001b[0;34m(\u001b[0m\u001b[0mx\u001b[0m\u001b[0;34m)\u001b[0m\u001b[0;34m\u001b[0m\u001b[0;34m\u001b[0m\u001b[0m\n",
      "\u001b[0;31mNameError\u001b[0m: name 'np' is not defined"
     ]
    }
   ],
   "source": [
    "x = np.random.uniform(size = (2,2,3))\n",
    "for _ in range(4):\n",
    "    x = np.append(x, np.zeros((2, 2, 3)), axis = -1)\n",
    "    print(x.shape)\n",
    "    print(x)"
   ]
  },
  {
   "cell_type": "code",
   "execution_count": 230,
   "metadata": {},
   "outputs": [],
   "source": [
    "def load_data(fpath, ret_len = False):\n",
    "    game_strings = []\n",
    "    all_lines = open(fpath, 'r', encoding='utf-8').readlines()\n",
    "    this_game = ''\n",
    "    for line_idx, line in enumerate(all_lines):\n",
    "        this_game += line\n",
    "        if line.split() and line.split()[-1] in ['0-1', '1-0', '1/2-1/2']:\n",
    "            game_strings.append(str(this_game))\n",
    "            this_game = ''\n",
    "    if ret_len:\n",
    "        return len(game_strings)\n",
    "    return list(game_strings)\n",
    "\n",
    "\n",
    "def generator_fn(all_games, gram_size=3):\n",
    "    for game_string in all_games:\n",
    "        games_buffer = collections.deque()\n",
    "        try:\n",
    "            game = chess.pgn.read_game(\n",
    "                io.StringIO(game_string.decode('utf-8')))\n",
    "        except:\n",
    "            game = chess.pgn.read_game(io.StringIO(game_string))\n",
    "        board = game.board()\n",
    "        game_result = engine.RESULT_VALUE[game.headers['Result']]\n",
    "        print('----------> ', game_result, game.headers['Result'], game.headers)\n",
    "        player_old = 1\n",
    "        for midx, move in enumerate(game.mainline_moves()):\n",
    "            if midx == 0:\n",
    "                games_buffer.appendleft(board.fen())\n",
    "            if len(games_buffer) == gram_size:\n",
    "                # return game state as is\n",
    "                games = list(games_buffer)\n",
    "                game_states = [engine.make_state(\n",
    "                    game, player_layer=True) for game in games]\n",
    "                target_state = game_states[0]\n",
    "                for game in game_states[1:]:\n",
    "                    target_state = np.append(target_state, game, axis=-1)\n",
    "                yield target_state, int(game_result)\n",
    "                games_buffer.pop()\n",
    "\n",
    "            elif len(games_buffer) < gram_size:\n",
    "                # stack with zeros is the idea\n",
    "                games = list(games_buffer)\n",
    "                game_states = [engine.make_state(\n",
    "                    game, player_layer=True) for game in games]\n",
    "                target_state = game_states[0]\n",
    "                for game in game_states[1:]:\n",
    "                    target_state = np.append(target_state, game, axis=-1)\n",
    "                for _ in range(gram_size - len(games_buffer)):\n",
    "                    target_state = np.append(\n",
    "                        target_state, np.zeros(shape=(8, 8, 5)), axis=-1)\n",
    "                yield target_state, int(game_result)\n",
    "\n",
    "            # once the current board is returned update the move\n",
    "            board.push(move)\n",
    "            games_buffer.appendleft(board.fen())\n",
    "            game_result *= -1.\n",
    "\n",
    "def input_fn(all_games, batch_size, gram_size, shuffle=False):\n",
    "    '''Returns:\n",
    "        tuple of (board [stack_size, 8x8X4], from_move, to_move, result)'''\n",
    "    shapes = ([8, 8, 5 * gram_size], [])\n",
    "    types = (tf.uint8, tf.int32)\n",
    "\n",
    "    dataset = tf.data.Dataset.from_generator(\n",
    "        generator_fn,\n",
    "        output_shapes=shapes,\n",
    "        output_types=types,\n",
    "        args=(all_games,gram_size,)\n",
    "    )\n",
    "\n",
    "    dataset = dataset.repeat()  # iterate forever\n",
    "    if shuffle:  # for training\n",
    "        dataset.shuffle(128*batch_size)\n",
    "    dataset = dataset.padded_batch(batch_size, shapes).prefetch(1)\n",
    "    return dataset\n",
    "\n",
    "def get_batches(file_paths, batch_size, gram_size, shuffle = False):\n",
    "    tot_games = 0\n",
    "    all_games = []\n",
    "    for fpath in file_paths:\n",
    "        tot_games += load_data(fpath, True)\n",
    "        all_games.extend(load_data(fpath))\n",
    "    approx_total_moves = tot_games * 50\n",
    "    batches = input_fn(all_games, batch_size, gram_size, shuffle)\n",
    "    return batches, approx_total_moves // batch_size + int(approx_total_moves % batch_size != 0), approx_total_moves"
   ]
  },
  {
   "cell_type": "code",
   "execution_count": 231,
   "metadata": {},
   "outputs": [],
   "source": [
    "batches, num_batches, tot_games = get_batches(['KB_small.pgn'], 64, 4, True)\n",
    "# batches = get_batches(['KB_small.pgn'], 64, 4, True)"
   ]
  },
  {
   "cell_type": "code",
   "execution_count": 232,
   "metadata": {},
   "outputs": [],
   "source": [
    "iter = tf.data.Iterator.from_structure(\n",
    "        batches.output_types, batches.output_shapes)\n",
    "xs = iter.get_next()\n",
    "train_init_op = iter.make_initializer(batches)"
   ]
  },
  {
   "cell_type": "code",
   "execution_count": 233,
   "metadata": {},
   "outputs": [
    {
     "data": {
      "text/plain": [
       "(<tf.Tensor 'IteratorGetNext_28:0' shape=(?, 8, 8, 20) dtype=uint8>,\n",
       " <tf.Tensor 'IteratorGetNext_28:1' shape=(?,) dtype=int32>)"
      ]
     },
     "execution_count": 233,
     "metadata": {},
     "output_type": "execute_result"
    }
   ],
   "source": [
    "xs"
   ]
  },
  {
   "cell_type": "code",
   "execution_count": 235,
   "metadata": {
    "scrolled": false
   },
   "outputs": [
    {
     "name": "stdout",
     "output_type": "stream",
     "text": [
      "---------->  -1 0-1 Headers(Event='Karoun Masters Cup 2019', Site='Ahvaz IRI', Date='2019.02.25', Round='6.2', White='Abbasifar, Hasan', Black='Grigoryan, Karen H', Result='0-1', BlackElo='2590', ECO='A45', EventDate='2019.02.21', WhiteElo='2401')\n",
      "[-1  1 -1  1 -1  1 -1  1 -1  1 -1  1 -1  1 -1  1 -1  1 -1  1 -1  1 -1  1\n",
      " -1  1 -1  1 -1  1 -1  1 -1  1 -1  1 -1  1 -1  1 -1  1 -1  1 -1  1 -1  1\n",
      " -1  1 -1  1 -1  1 -1  1 -1  1 -1  1 -1  1 -1  1]\n",
      "---------->  1 1-0 Headers(Event='Aeroflot Open A 2019', Site='Moscow RUS', Date='2019.02.25', Round='7.1', White='Martirosyan, Haik M', Black='Sasikiran, Krishnan', Result='1-0', BlackElo='2678', ECO='E66', EventDate='2019.02.20', WhiteElo='2616')\n",
      "[-1  1 -1  1 -1  1 -1  1 -1  1 -1  1 -1  1 -1  1 -1  1 -1  1  1 -1  1 -1\n",
      "  1 -1  1 -1  1 -1  1 -1  1 -1  1 -1  1 -1  1 -1  1 -1  1 -1  1 -1  1 -1\n",
      "  1 -1  1 -1  1 -1  1 -1  1 -1  1 -1  1 -1  1 -1]\n",
      "---------->  1 1-0 Headers(Event='Aeroflot Open A 2019', Site='Moscow RUS', Date='2019.02.25', Round='7.49', White='Aditya, Mittal', Black='Tahbaz, Arash', Result='1-0', BlackElo='2484', ECO='E97', EventDate='2019.02.20', WhiteElo='2454')\n",
      "[ 1 -1  1 -1  1 -1  1 -1  1 -1  1 -1  1 -1  1 -1  1 -1  1 -1  1 -1  1 -1\n",
      "  1  1 -1  1 -1  1 -1  1 -1  1 -1  1 -1  1 -1  1 -1  1 -1  1 -1  1 -1  1\n",
      " -1  1 -1  1 -1  1 -1  1 -1  1 -1  1 -1  1 -1  1]\n",
      "---------->  0 1/2-1/2 Headers(Event='Aeroflot Open A 2019', Site='Moscow RUS', Date='2019.02.25', Round='7.50', White='Chen, Qi b', Black='Schitco, Ivan', Result='1/2-1/2', BlackElo='2426', ECO='B09', EventDate='2019.02.20', WhiteElo='2443')\n",
      "[-1  1 -1  1 -1  1 -1  1 -1  1 -1  1 -1  1 -1  1 -1  1 -1  1 -1  1 -1  1\n",
      " -1  1 -1  1 -1  1 -1  1 -1  1 -1  1 -1  1 -1  1 -1  1 -1  1  0  0  0  0\n",
      "  0  0  0  0  0  0  0  0  0  0  0  0  0  0  0  0]\n",
      "---------->  0 1/2-1/2 Headers(Event='Aeroflot Open A 2019', Site='Moscow RUS', Date='2019.02.25', Round='7.29', White='Svane, Rasmus', Black='Stupak, Kirill', Result='1/2-1/2', BlackElo='2537', ECO='C09', EventDate='2019.02.20', WhiteElo='2599')\n",
      "[0 0 0 0 0 0 0 0 0 0 0 0 0 0 0 0 0 0 0 0 0 0 0 0 0 0 0 0 0 0 0 0 0 0 0 0 0\n",
      " 0 0 0 0 0 0 0 0 0 0 0 0 0 0 0 0 0 0 0 0 0 0 0 0 0 0 0]\n",
      "---------->  0 1/2-1/2 Headers(Event='Arab Cities 2019', Site='Hammamet TUN', Date='2019.02.25', Round='7.2', White='Kaabi, Mejdi', Black='Ameir, Moheb', Result='1/2-1/2', BlackElo='2286', ECO='D76', EventDate='2019.02.21', WhiteElo='2274')\n",
      "[0 0 0 0 0 0 0 0 0 0 0 0 0 0 0 0 0 0 0 0 0 0 0 0 0 0 0 0 0 0 0 0 0 0 0 0 0\n",
      " 0 0 0 0 0 0 0 0 0 0 0 0 0 0 0 0 0 0 0 0 0 0 0 0 0 0 0]\n",
      "---------->  0 1/2-1/2 Headers(Event='Aeroflot Open A 2019', Site='Moscow RUS', Date='2019.02.25', Round='7.40', White='Kevlishvili, Robby', Black='Ghaem Maghami, Ehsan', Result='1/2-1/2', BlackElo='2540', ECO='B90', EventDate='2019.02.20', WhiteElo='2463')\n",
      "[0 0 0 0 0 0 0 0 0 0 0 0 0 0 0 0 0 0 0 0 0 0 0 0 0 0 0 0 0 0 0 0 0 0 0 0 0\n",
      " 0 0 0 0 0 0 0 0 0 0 0 0 0 0 0 0 0 0 0 0 0 0 0 0 0 0 0]\n",
      "---------->  0 1/2-1/2 Headers(Event='Aeroflot Open A 2019', Site='Moscow RUS', Date='2019.02.25', Round='7.14', White='Sychev, Klementy', Black='Sjugirov, Sanan', Result='1/2-1/2', BlackElo='2663', ECO='A33', EventDate='2019.02.20', WhiteElo='2545')\n",
      "[0 0 0 0 0 0 0 0 0 0 0 0 0 0 0 0 0 0 0 0 0 0 0 0 0 0 0 0 0 0 0 0 0 0 0 0 0\n",
      " 0 0 0 0 0 0 0 0 0 0 0 0 0 0 0 0 0 0 0 0 0 0 0 0 0 0 0]\n",
      "---------->  -1 0-1 Headers(Event='Karoun Masters Cup 2019', Site='Ahvaz IRI', Date='2019.02.25', Round='6.2', White='Abbasifar, Hasan', Black='Grigoryan, Karen H', Result='0-1', BlackElo='2590', ECO='A45', EventDate='2019.02.21', WhiteElo='2401')\n",
      "[ 0  0  0  0  0  0  0  0  0  0  0  0  0  0  0  0  0  0  0  0  0  0  0  0\n",
      "  0  0  0  0  0  0  0  0  0 -1  1 -1  1 -1  1 -1  1 -1  1 -1  1 -1  1 -1\n",
      "  1 -1  1 -1  1 -1  1 -1  1 -1  1 -1  1 -1  1 -1]\n",
      "---------->  1 1-0 Headers(Event='Aeroflot Open A 2019', Site='Moscow RUS', Date='2019.02.25', Round='7.1', White='Martirosyan, Haik M', Black='Sasikiran, Krishnan', Result='1-0', BlackElo='2678', ECO='E66', EventDate='2019.02.20', WhiteElo='2616')\n",
      "[ 1 -1  1 -1  1 -1  1 -1  1 -1  1 -1  1 -1  1 -1  1 -1  1 -1  1 -1  1 -1\n",
      "  1 -1  1 -1  1 -1  1 -1  1 -1  1 -1  1 -1  1 -1  1 -1  1 -1  1 -1  1 -1\n",
      "  1 -1  1 -1  1  1 -1  1 -1  1 -1  1 -1  1 -1  1]\n",
      "---------->  1 1-0 Headers(Event='Aeroflot Open A 2019', Site='Moscow RUS', Date='2019.02.25', Round='7.49', White='Aditya, Mittal', Black='Tahbaz, Arash', Result='1-0', BlackElo='2484', ECO='E97', EventDate='2019.02.20', WhiteElo='2454')\n",
      "[-1  1 -1  1 -1  1 -1  1 -1  1 -1  1 -1  1 -1  1 -1  1 -1  1 -1  1 -1  1\n",
      " -1  1 -1  1 -1  1 -1  1 -1  1 -1  1 -1  1 -1  1 -1  1 -1  1 -1  1 -1  1\n",
      " -1  1 -1  1 -1  1 -1  1 -1  1  1 -1  1 -1  1 -1]\n",
      "[ 1 -1  1 -1  1 -1  1 -1  1 -1  1 -1  1 -1  1 -1  1 -1  1 -1  1 -1  1 -1\n",
      "  1 -1  1 -1  1 -1  1 -1  1 -1  1 -1  1 -1  1 -1  1 -1  1 -1  1 -1  1 -1\n",
      "  1 -1  1 -1  1 -1  1 -1  1 -1  1 -1  1 -1  1 -1]\n",
      "---------->  0 1/2-1/2 Headers(Event='Aeroflot Open A 2019', Site='Moscow RUS', Date='2019.02.25', Round='7.50', White='Chen, Qi b', Black='Schitco, Ivan', Result='1/2-1/2', BlackElo='2426', ECO='B09', EventDate='2019.02.20', WhiteElo='2443')\n",
      "[ 1 -1  1 -1  1 -1  1 -1  1 -1  1 -1  1  0  0  0  0  0  0  0  0  0  0  0\n",
      "  0  0  0  0  0  0  0  0  0  0  0  0  0  0  0  0  0  0  0  0  0  0  0  0\n",
      "  0  0  0  0  0  0  0  0  0  0  0  0  0  0  0  0]\n",
      "---------->  0 1/2-1/2 Headers(Event='Aeroflot Open A 2019', Site='Moscow RUS', Date='2019.02.25', Round='7.29', White='Svane, Rasmus', Black='Stupak, Kirill', Result='1/2-1/2', BlackElo='2537', ECO='C09', EventDate='2019.02.20', WhiteElo='2599')\n",
      "[0 0 0 0 0 0 0 0 0 0 0 0 0 0 0 0 0 0 0 0 0 0 0 0 0 0 0 0 0 0 0 0 0 0 0 0 0\n",
      " 0 0 0 0 0 0 0 0 0 0 0 0 0 0 0 0 0 0 0 0 0 0 0 0 0 0 0]\n",
      "---------->  0 1/2-1/2 Headers(Event='Arab Cities 2019', Site='Hammamet TUN', Date='2019.02.25', Round='7.2', White='Kaabi, Mejdi', Black='Ameir, Moheb', Result='1/2-1/2', BlackElo='2286', ECO='D76', EventDate='2019.02.21', WhiteElo='2274')\n",
      "---------->  0 1/2-1/2 Headers(Event='Aeroflot Open A 2019', Site='Moscow RUS', Date='2019.02.25', Round='7.40', White='Kevlishvili, Robby', Black='Ghaem Maghami, Ehsan', Result='1/2-1/2', BlackElo='2540', ECO='B90', EventDate='2019.02.20', WhiteElo='2463')\n",
      "[0 0 0 0 0 0 0 0 0 0 0 0 0 0 0 0 0 0 0 0 0 0 0 0 0 0 0 0 0 0 0 0 0 0 0 0 0\n",
      " 0 0 0 0 0 0 0 0 0 0 0 0 0 0 0 0 0 0 0 0 0 0 0 0 0 0 0]\n",
      "---------->  0 1/2-1/2 Headers(Event='Aeroflot Open A 2019', Site='Moscow RUS', Date='2019.02.25', Round='7.14', White='Sychev, Klementy', Black='Sjugirov, Sanan', Result='1/2-1/2', BlackElo='2663', ECO='A33', EventDate='2019.02.20', WhiteElo='2545')\n",
      "[0 0 0 0 0 0 0 0 0 0 0 0 0 0 0 0 0 0 0 0 0 0 0 0 0 0 0 0 0 0 0 0 0 0 0 0 0\n",
      " 0 0 0 0 0 0 0 0 0 0 0 0 0 0 0 0 0 0 0 0 0 0 0 0 0 0 0]\n",
      "[0 0 0 0 0 0 0 0 0 0 0 0 0 0 0 0 0 0 0 0 0 0 0 0 0 0 0 0 0 0 0 0 0 0 0 0 0\n",
      " 0 0 0 0 0 0 0 0 0 0 0 0 0 0 0 0 0 0 0 0 0 0 0 0 0 0 0]\n",
      "---------->  -1 0-1 Headers(Event='Karoun Masters Cup 2019', Site='Ahvaz IRI', Date='2019.02.25', Round='6.2', White='Abbasifar, Hasan', Black='Grigoryan, Karen H', Result='0-1', BlackElo='2590', ECO='A45', EventDate='2019.02.21', WhiteElo='2401')\n",
      "---------->  1 1-0 Headers(Event='Aeroflot Open A 2019', Site='Moscow RUS', Date='2019.02.25', Round='7.1', White='Martirosyan, Haik M', Black='Sasikiran, Krishnan', Result='1-0', BlackElo='2678', ECO='E66', EventDate='2019.02.20', WhiteElo='2616')\n"
     ]
    },
    {
     "ename": "KeyboardInterrupt",
     "evalue": "",
     "output_type": "error",
     "traceback": [
      "\u001b[0;31m---------------------------------------------------------------------------\u001b[0m",
      "\u001b[0;31mKeyboardInterrupt\u001b[0m                         Traceback (most recent call last)",
      "\u001b[0;32m<ipython-input-235-153110a4abb3>\u001b[0m in \u001b[0;36m<module>\u001b[0;34m\u001b[0m\n\u001b[1;32m      2\u001b[0m     \u001b[0msess\u001b[0m\u001b[0;34m.\u001b[0m\u001b[0mrun\u001b[0m\u001b[0;34m(\u001b[0m\u001b[0mtrain_init_op\u001b[0m\u001b[0;34m)\u001b[0m\u001b[0;34m\u001b[0m\u001b[0;34m\u001b[0m\u001b[0m\n\u001b[1;32m      3\u001b[0m     \u001b[0;32mfor\u001b[0m \u001b[0m_\u001b[0m \u001b[0;32min\u001b[0m \u001b[0mrange\u001b[0m\u001b[0;34m(\u001b[0m\u001b[0;36m100\u001b[0m\u001b[0;34m)\u001b[0m\u001b[0;34m:\u001b[0m\u001b[0;34m\u001b[0m\u001b[0;34m\u001b[0m\u001b[0m\n\u001b[0;32m----> 4\u001b[0;31m         \u001b[0mboard\u001b[0m\u001b[0;34m,\u001b[0m \u001b[0mresults\u001b[0m \u001b[0;34m=\u001b[0m \u001b[0msess\u001b[0m\u001b[0;34m.\u001b[0m\u001b[0mrun\u001b[0m\u001b[0;34m(\u001b[0m\u001b[0mxs\u001b[0m\u001b[0;34m)\u001b[0m\u001b[0;34m\u001b[0m\u001b[0;34m\u001b[0m\u001b[0m\n\u001b[0m\u001b[1;32m      5\u001b[0m \u001b[0;31m#         print(board.shape)\u001b[0m\u001b[0;34m\u001b[0m\u001b[0;34m\u001b[0m\u001b[0;34m\u001b[0m\u001b[0m\n\u001b[1;32m      6\u001b[0m         \u001b[0mprint\u001b[0m\u001b[0;34m(\u001b[0m\u001b[0mresults\u001b[0m\u001b[0;34m)\u001b[0m\u001b[0;34m\u001b[0m\u001b[0;34m\u001b[0m\u001b[0m\n",
      "\u001b[0;32m/usr/local/lib/python3.7/site-packages/tensorflow/python/client/session.py\u001b[0m in \u001b[0;36mrun\u001b[0;34m(self, fetches, feed_dict, options, run_metadata)\u001b[0m\n\u001b[1;32m    948\u001b[0m     \u001b[0;32mtry\u001b[0m\u001b[0;34m:\u001b[0m\u001b[0;34m\u001b[0m\u001b[0;34m\u001b[0m\u001b[0m\n\u001b[1;32m    949\u001b[0m       result = self._run(None, fetches, feed_dict, options_ptr,\n\u001b[0;32m--> 950\u001b[0;31m                          run_metadata_ptr)\n\u001b[0m\u001b[1;32m    951\u001b[0m       \u001b[0;32mif\u001b[0m \u001b[0mrun_metadata\u001b[0m\u001b[0;34m:\u001b[0m\u001b[0;34m\u001b[0m\u001b[0;34m\u001b[0m\u001b[0m\n\u001b[1;32m    952\u001b[0m         \u001b[0mproto_data\u001b[0m \u001b[0;34m=\u001b[0m \u001b[0mtf_session\u001b[0m\u001b[0;34m.\u001b[0m\u001b[0mTF_GetBuffer\u001b[0m\u001b[0;34m(\u001b[0m\u001b[0mrun_metadata_ptr\u001b[0m\u001b[0;34m)\u001b[0m\u001b[0;34m\u001b[0m\u001b[0;34m\u001b[0m\u001b[0m\n",
      "\u001b[0;32m/usr/local/lib/python3.7/site-packages/tensorflow/python/client/session.py\u001b[0m in \u001b[0;36m_run\u001b[0;34m(self, handle, fetches, feed_dict, options, run_metadata)\u001b[0m\n\u001b[1;32m   1171\u001b[0m     \u001b[0;32mif\u001b[0m \u001b[0mfinal_fetches\u001b[0m \u001b[0;32mor\u001b[0m \u001b[0mfinal_targets\u001b[0m \u001b[0;32mor\u001b[0m \u001b[0;34m(\u001b[0m\u001b[0mhandle\u001b[0m \u001b[0;32mand\u001b[0m \u001b[0mfeed_dict_tensor\u001b[0m\u001b[0;34m)\u001b[0m\u001b[0;34m:\u001b[0m\u001b[0;34m\u001b[0m\u001b[0;34m\u001b[0m\u001b[0m\n\u001b[1;32m   1172\u001b[0m       results = self._do_run(handle, final_targets, final_fetches,\n\u001b[0;32m-> 1173\u001b[0;31m                              feed_dict_tensor, options, run_metadata)\n\u001b[0m\u001b[1;32m   1174\u001b[0m     \u001b[0;32melse\u001b[0m\u001b[0;34m:\u001b[0m\u001b[0;34m\u001b[0m\u001b[0;34m\u001b[0m\u001b[0m\n\u001b[1;32m   1175\u001b[0m       \u001b[0mresults\u001b[0m \u001b[0;34m=\u001b[0m \u001b[0;34m[\u001b[0m\u001b[0;34m]\u001b[0m\u001b[0;34m\u001b[0m\u001b[0;34m\u001b[0m\u001b[0m\n",
      "\u001b[0;32m/usr/local/lib/python3.7/site-packages/tensorflow/python/client/session.py\u001b[0m in \u001b[0;36m_do_run\u001b[0;34m(self, handle, target_list, fetch_list, feed_dict, options, run_metadata)\u001b[0m\n\u001b[1;32m   1348\u001b[0m     \u001b[0;32mif\u001b[0m \u001b[0mhandle\u001b[0m \u001b[0;32mis\u001b[0m \u001b[0;32mNone\u001b[0m\u001b[0;34m:\u001b[0m\u001b[0;34m\u001b[0m\u001b[0;34m\u001b[0m\u001b[0m\n\u001b[1;32m   1349\u001b[0m       return self._do_call(_run_fn, feeds, fetches, targets, options,\n\u001b[0;32m-> 1350\u001b[0;31m                            run_metadata)\n\u001b[0m\u001b[1;32m   1351\u001b[0m     \u001b[0;32melse\u001b[0m\u001b[0;34m:\u001b[0m\u001b[0;34m\u001b[0m\u001b[0;34m\u001b[0m\u001b[0m\n\u001b[1;32m   1352\u001b[0m       \u001b[0;32mreturn\u001b[0m \u001b[0mself\u001b[0m\u001b[0;34m.\u001b[0m\u001b[0m_do_call\u001b[0m\u001b[0;34m(\u001b[0m\u001b[0m_prun_fn\u001b[0m\u001b[0;34m,\u001b[0m \u001b[0mhandle\u001b[0m\u001b[0;34m,\u001b[0m \u001b[0mfeeds\u001b[0m\u001b[0;34m,\u001b[0m \u001b[0mfetches\u001b[0m\u001b[0;34m)\u001b[0m\u001b[0;34m\u001b[0m\u001b[0;34m\u001b[0m\u001b[0m\n",
      "\u001b[0;32m/usr/local/lib/python3.7/site-packages/tensorflow/python/client/session.py\u001b[0m in \u001b[0;36m_do_call\u001b[0;34m(self, fn, *args)\u001b[0m\n\u001b[1;32m   1354\u001b[0m   \u001b[0;32mdef\u001b[0m \u001b[0m_do_call\u001b[0m\u001b[0;34m(\u001b[0m\u001b[0mself\u001b[0m\u001b[0;34m,\u001b[0m \u001b[0mfn\u001b[0m\u001b[0;34m,\u001b[0m \u001b[0;34m*\u001b[0m\u001b[0margs\u001b[0m\u001b[0;34m)\u001b[0m\u001b[0;34m:\u001b[0m\u001b[0;34m\u001b[0m\u001b[0;34m\u001b[0m\u001b[0m\n\u001b[1;32m   1355\u001b[0m     \u001b[0;32mtry\u001b[0m\u001b[0;34m:\u001b[0m\u001b[0;34m\u001b[0m\u001b[0;34m\u001b[0m\u001b[0m\n\u001b[0;32m-> 1356\u001b[0;31m       \u001b[0;32mreturn\u001b[0m \u001b[0mfn\u001b[0m\u001b[0;34m(\u001b[0m\u001b[0;34m*\u001b[0m\u001b[0margs\u001b[0m\u001b[0;34m)\u001b[0m\u001b[0;34m\u001b[0m\u001b[0;34m\u001b[0m\u001b[0m\n\u001b[0m\u001b[1;32m   1357\u001b[0m     \u001b[0;32mexcept\u001b[0m \u001b[0merrors\u001b[0m\u001b[0;34m.\u001b[0m\u001b[0mOpError\u001b[0m \u001b[0;32mas\u001b[0m \u001b[0me\u001b[0m\u001b[0;34m:\u001b[0m\u001b[0;34m\u001b[0m\u001b[0;34m\u001b[0m\u001b[0m\n\u001b[1;32m   1358\u001b[0m       \u001b[0mmessage\u001b[0m \u001b[0;34m=\u001b[0m \u001b[0mcompat\u001b[0m\u001b[0;34m.\u001b[0m\u001b[0mas_text\u001b[0m\u001b[0;34m(\u001b[0m\u001b[0me\u001b[0m\u001b[0;34m.\u001b[0m\u001b[0mmessage\u001b[0m\u001b[0;34m)\u001b[0m\u001b[0;34m\u001b[0m\u001b[0;34m\u001b[0m\u001b[0m\n",
      "\u001b[0;32m/usr/local/lib/python3.7/site-packages/tensorflow/python/client/session.py\u001b[0m in \u001b[0;36m_run_fn\u001b[0;34m(feed_dict, fetch_list, target_list, options, run_metadata)\u001b[0m\n\u001b[1;32m   1339\u001b[0m       \u001b[0mself\u001b[0m\u001b[0;34m.\u001b[0m\u001b[0m_extend_graph\u001b[0m\u001b[0;34m(\u001b[0m\u001b[0;34m)\u001b[0m\u001b[0;34m\u001b[0m\u001b[0;34m\u001b[0m\u001b[0m\n\u001b[1;32m   1340\u001b[0m       return self._call_tf_sessionrun(\n\u001b[0;32m-> 1341\u001b[0;31m           options, feed_dict, fetch_list, target_list, run_metadata)\n\u001b[0m\u001b[1;32m   1342\u001b[0m \u001b[0;34m\u001b[0m\u001b[0m\n\u001b[1;32m   1343\u001b[0m     \u001b[0;32mdef\u001b[0m \u001b[0m_prun_fn\u001b[0m\u001b[0;34m(\u001b[0m\u001b[0mhandle\u001b[0m\u001b[0;34m,\u001b[0m \u001b[0mfeed_dict\u001b[0m\u001b[0;34m,\u001b[0m \u001b[0mfetch_list\u001b[0m\u001b[0;34m)\u001b[0m\u001b[0;34m:\u001b[0m\u001b[0;34m\u001b[0m\u001b[0;34m\u001b[0m\u001b[0m\n",
      "\u001b[0;32m/usr/local/lib/python3.7/site-packages/tensorflow/python/client/session.py\u001b[0m in \u001b[0;36m_call_tf_sessionrun\u001b[0;34m(self, options, feed_dict, fetch_list, target_list, run_metadata)\u001b[0m\n\u001b[1;32m   1427\u001b[0m     return tf_session.TF_SessionRun_wrapper(\n\u001b[1;32m   1428\u001b[0m         \u001b[0mself\u001b[0m\u001b[0;34m.\u001b[0m\u001b[0m_session\u001b[0m\u001b[0;34m,\u001b[0m \u001b[0moptions\u001b[0m\u001b[0;34m,\u001b[0m \u001b[0mfeed_dict\u001b[0m\u001b[0;34m,\u001b[0m \u001b[0mfetch_list\u001b[0m\u001b[0;34m,\u001b[0m \u001b[0mtarget_list\u001b[0m\u001b[0;34m,\u001b[0m\u001b[0;34m\u001b[0m\u001b[0;34m\u001b[0m\u001b[0m\n\u001b[0;32m-> 1429\u001b[0;31m         run_metadata)\n\u001b[0m\u001b[1;32m   1430\u001b[0m \u001b[0;34m\u001b[0m\u001b[0m\n\u001b[1;32m   1431\u001b[0m   \u001b[0;32mdef\u001b[0m \u001b[0m_call_tf_sessionprun\u001b[0m\u001b[0;34m(\u001b[0m\u001b[0mself\u001b[0m\u001b[0;34m,\u001b[0m \u001b[0mhandle\u001b[0m\u001b[0;34m,\u001b[0m \u001b[0mfeed_dict\u001b[0m\u001b[0;34m,\u001b[0m \u001b[0mfetch_list\u001b[0m\u001b[0;34m)\u001b[0m\u001b[0;34m:\u001b[0m\u001b[0;34m\u001b[0m\u001b[0;34m\u001b[0m\u001b[0m\n",
      "\u001b[0;31mKeyboardInterrupt\u001b[0m: "
     ]
    }
   ],
   "source": [
    "with tf.Session() as sess:\n",
    "    sess.run(train_init_op)\n",
    "    for _ in range(100):\n",
    "        board, results = sess.run(xs)\n",
    "#         print(board.shape)\n",
    "        print(results)\n",
    "#         print(board[4, 1:4, 0])"
   ]
  },
  {
   "cell_type": "code",
   "execution_count": 229,
   "metadata": {},
   "outputs": [
    {
     "data": {
      "text/plain": [
       "0.0"
      ]
     },
     "execution_count": 229,
     "metadata": {},
     "output_type": "execute_result"
    }
   ],
   "source": [
    "-0.0 * -1"
   ]
  },
  {
   "cell_type": "code",
   "execution_count": null,
   "metadata": {},
   "outputs": [],
   "source": []
  },
  {
   "cell_type": "code",
   "execution_count": null,
   "metadata": {},
   "outputs": [],
   "source": []
  },
  {
   "cell_type": "code",
   "execution_count": null,
   "metadata": {},
   "outputs": [],
   "source": []
  },
  {
   "cell_type": "code",
   "execution_count": 213,
   "metadata": {
    "scrolled": false
   },
   "outputs": [
    {
     "name": "stdout",
     "output_type": "stream",
     "text": [
      "-------> KB_small.pgn\n",
      "12 12\n",
      "-------> KB_small.pgn\n",
      "-------> KB_small.pgn\n",
      "-------> KB_small.pgn\n",
      "-------> KB_small.pgn\n",
      "-------> KB_small.pgn\n",
      "-------> KB_small.pgn\n"
     ]
    },
    {
     "ename": "KeyboardInterrupt",
     "evalue": "",
     "output_type": "error",
     "traceback": [
      "\u001b[0;31m---------------------------------------------------------------------------\u001b[0m",
      "\u001b[0;31mKeyboardInterrupt\u001b[0m                         Traceback (most recent call last)",
      "\u001b[0;32m<ipython-input-213-dfe4ccc7bd22>\u001b[0m in \u001b[0;36m<module>\u001b[0;34m\u001b[0m\n\u001b[1;32m     79\u001b[0m             \u001b[0;32myield\u001b[0m \u001b[0mbatch_state\u001b[0m\u001b[0;34m,\u001b[0m \u001b[0mbatch_result\u001b[0m\u001b[0;34m\u001b[0m\u001b[0;34m\u001b[0m\u001b[0m\n\u001b[1;32m     80\u001b[0m \u001b[0;34m\u001b[0m\u001b[0m\n\u001b[0;32m---> 81\u001b[0;31m \u001b[0;32mfor\u001b[0m \u001b[0mbidx\u001b[0m\u001b[0;34m,\u001b[0m \u001b[0;34m(\u001b[0m\u001b[0mbatch_states\u001b[0m\u001b[0;34m,\u001b[0m \u001b[0mbatch_results\u001b[0m\u001b[0;34m)\u001b[0m \u001b[0;32min\u001b[0m \u001b[0menumerate\u001b[0m\u001b[0;34m(\u001b[0m\u001b[0mget_batches\u001b[0m\u001b[0;34m(\u001b[0m\u001b[0;34m[\u001b[0m\u001b[0;34m'KB_small.pgn'\u001b[0m\u001b[0;34m]\u001b[0m\u001b[0;34m,\u001b[0m \u001b[0;36m12\u001b[0m\u001b[0;34m,\u001b[0m \u001b[0;36m4\u001b[0m\u001b[0;34m,\u001b[0m \u001b[0;36m26\u001b[0m\u001b[0;34m)\u001b[0m\u001b[0;34m)\u001b[0m\u001b[0;34m:\u001b[0m\u001b[0;34m\u001b[0m\u001b[0;34m\u001b[0m\u001b[0m\n\u001b[0m\u001b[1;32m     82\u001b[0m     \u001b[0mprint\u001b[0m\u001b[0;34m(\u001b[0m\u001b[0mlen\u001b[0m\u001b[0;34m(\u001b[0m\u001b[0mbatch_states\u001b[0m\u001b[0;34m)\u001b[0m\u001b[0;34m,\u001b[0m \u001b[0mlen\u001b[0m\u001b[0;34m(\u001b[0m\u001b[0mbatch_results\u001b[0m\u001b[0;34m)\u001b[0m\u001b[0;34m)\u001b[0m\u001b[0;34m\u001b[0m\u001b[0;34m\u001b[0m\u001b[0m\n\u001b[1;32m     83\u001b[0m     \u001b[0;32mif\u001b[0m \u001b[0mbidx\u001b[0m \u001b[0;34m>\u001b[0m \u001b[0;36m4\u001b[0m\u001b[0;34m:\u001b[0m\u001b[0;34m\u001b[0m\u001b[0;34m\u001b[0m\u001b[0m\n",
      "\u001b[0;32m<ipython-input-213-dfe4ccc7bd22>\u001b[0m in \u001b[0;36mget_batches\u001b[0;34m(file_paths, batch_size, gram_size, buffer_mult, shuffle)\u001b[0m\n\u001b[1;32m     73\u001b[0m     \u001b[0mbatch_state\u001b[0m \u001b[0;34m=\u001b[0m \u001b[0;34m[\u001b[0m\u001b[0;34m]\u001b[0m\u001b[0;34m\u001b[0m\u001b[0;34m\u001b[0m\u001b[0m\n\u001b[1;32m     74\u001b[0m     \u001b[0mbatch_result\u001b[0m \u001b[0;34m=\u001b[0m \u001b[0;34m[\u001b[0m\u001b[0;34m]\u001b[0m\u001b[0;34m\u001b[0m\u001b[0;34m\u001b[0m\u001b[0m\n\u001b[0;32m---> 75\u001b[0;31m     \u001b[0;32mfor\u001b[0m \u001b[0mgen\u001b[0m \u001b[0;32min\u001b[0m \u001b[0menumerate\u001b[0m\u001b[0;34m(\u001b[0m\u001b[0mshuffle_buffer\u001b[0m\u001b[0;34m(\u001b[0m\u001b[0mgenerator_fn\u001b[0m\u001b[0;34m(\u001b[0m\u001b[0mfile_paths\u001b[0m\u001b[0;34m,\u001b[0m \u001b[0mgram_size\u001b[0m\u001b[0;34m)\u001b[0m\u001b[0;34m,\u001b[0m \u001b[0mbuffer_mult\u001b[0m \u001b[0;34m*\u001b[0m \u001b[0mbatch_size\u001b[0m\u001b[0;34m)\u001b[0m\u001b[0;34m)\u001b[0m\u001b[0;34m:\u001b[0m\u001b[0;34m\u001b[0m\u001b[0;34m\u001b[0m\u001b[0m\n\u001b[0m\u001b[1;32m     76\u001b[0m         \u001b[0mbatch_state\u001b[0m\u001b[0;34m.\u001b[0m\u001b[0mappend\u001b[0m\u001b[0;34m(\u001b[0m\u001b[0mgen\u001b[0m\u001b[0;34m[\u001b[0m\u001b[0;36m0\u001b[0m\u001b[0;34m]\u001b[0m\u001b[0;34m)\u001b[0m\u001b[0;34m\u001b[0m\u001b[0;34m\u001b[0m\u001b[0m\n\u001b[1;32m     77\u001b[0m         \u001b[0mbatch_result\u001b[0m\u001b[0;34m.\u001b[0m\u001b[0mappend\u001b[0m\u001b[0;34m(\u001b[0m\u001b[0mgen\u001b[0m\u001b[0;34m[\u001b[0m\u001b[0;36m1\u001b[0m\u001b[0;34m]\u001b[0m\u001b[0;34m)\u001b[0m\u001b[0;34m\u001b[0m\u001b[0;34m\u001b[0m\u001b[0m\n",
      "\u001b[0;32m<ipython-input-213-dfe4ccc7bd22>\u001b[0m in \u001b[0;36mshuffle_buffer\u001b[0;34m(generator_fn, buffer_size)\u001b[0m\n\u001b[1;32m     61\u001b[0m \u001b[0;32mdef\u001b[0m \u001b[0mshuffle_buffer\u001b[0m\u001b[0;34m(\u001b[0m\u001b[0mgenerator_fn\u001b[0m\u001b[0;34m,\u001b[0m \u001b[0mbuffer_size\u001b[0m\u001b[0;34m)\u001b[0m\u001b[0;34m:\u001b[0m\u001b[0;34m\u001b[0m\u001b[0;34m\u001b[0m\u001b[0m\n\u001b[1;32m     62\u001b[0m     \u001b[0mbuffer_memory\u001b[0m \u001b[0;34m=\u001b[0m \u001b[0;34m[\u001b[0m\u001b[0;34m]\u001b[0m\u001b[0;34m\u001b[0m\u001b[0;34m\u001b[0m\u001b[0m\n\u001b[0;32m---> 63\u001b[0;31m     \u001b[0;32mfor\u001b[0m \u001b[0mgen\u001b[0m \u001b[0;32min\u001b[0m \u001b[0mgenerator_fn\u001b[0m\u001b[0;34m:\u001b[0m\u001b[0;34m\u001b[0m\u001b[0;34m\u001b[0m\u001b[0m\n\u001b[0m\u001b[1;32m     64\u001b[0m         \u001b[0mbuffer_memory\u001b[0m\u001b[0;34m.\u001b[0m\u001b[0mappend\u001b[0m\u001b[0;34m(\u001b[0m\u001b[0mgen\u001b[0m\u001b[0;34m)\u001b[0m\u001b[0;34m\u001b[0m\u001b[0;34m\u001b[0m\u001b[0m\n\u001b[1;32m     65\u001b[0m \u001b[0;31m#         print('======', len(buffer_memory))\u001b[0m\u001b[0;34m\u001b[0m\u001b[0;34m\u001b[0m\u001b[0;34m\u001b[0m\u001b[0m\n",
      "\u001b[0;32m<ipython-input-213-dfe4ccc7bd22>\u001b[0m in \u001b[0;36mgenerator_fn\u001b[0;34m(file_paths, gram_size)\u001b[0m\n\u001b[1;32m     34\u001b[0m                         \u001b[0mgames\u001b[0m \u001b[0;34m=\u001b[0m \u001b[0mlist\u001b[0m\u001b[0;34m(\u001b[0m\u001b[0mgames_buffer\u001b[0m\u001b[0;34m)\u001b[0m\u001b[0;34m\u001b[0m\u001b[0;34m\u001b[0m\u001b[0m\n\u001b[1;32m     35\u001b[0m                         game_states = [engine.make_state(\n\u001b[0;32m---> 36\u001b[0;31m                             game, player_layer=True) for game in games]\n\u001b[0m\u001b[1;32m     37\u001b[0m                         \u001b[0mtarget_state\u001b[0m \u001b[0;34m=\u001b[0m \u001b[0mgame_states\u001b[0m\u001b[0;34m[\u001b[0m\u001b[0;36m0\u001b[0m\u001b[0;34m]\u001b[0m\u001b[0;34m\u001b[0m\u001b[0;34m\u001b[0m\u001b[0m\n\u001b[1;32m     38\u001b[0m                         \u001b[0;32mfor\u001b[0m \u001b[0mgame\u001b[0m \u001b[0;32min\u001b[0m \u001b[0mgame_states\u001b[0m\u001b[0;34m[\u001b[0m\u001b[0;36m1\u001b[0m\u001b[0;34m:\u001b[0m\u001b[0;34m]\u001b[0m\u001b[0;34m:\u001b[0m\u001b[0;34m\u001b[0m\u001b[0;34m\u001b[0m\u001b[0m\n",
      "\u001b[0;32m<ipython-input-213-dfe4ccc7bd22>\u001b[0m in \u001b[0;36m<listcomp>\u001b[0;34m(.0)\u001b[0m\n\u001b[1;32m     34\u001b[0m                         \u001b[0mgames\u001b[0m \u001b[0;34m=\u001b[0m \u001b[0mlist\u001b[0m\u001b[0;34m(\u001b[0m\u001b[0mgames_buffer\u001b[0m\u001b[0;34m)\u001b[0m\u001b[0;34m\u001b[0m\u001b[0;34m\u001b[0m\u001b[0m\n\u001b[1;32m     35\u001b[0m                         game_states = [engine.make_state(\n\u001b[0;32m---> 36\u001b[0;31m                             game, player_layer=True) for game in games]\n\u001b[0m\u001b[1;32m     37\u001b[0m                         \u001b[0mtarget_state\u001b[0m \u001b[0;34m=\u001b[0m \u001b[0mgame_states\u001b[0m\u001b[0;34m[\u001b[0m\u001b[0;36m0\u001b[0m\u001b[0;34m]\u001b[0m\u001b[0;34m\u001b[0m\u001b[0;34m\u001b[0m\u001b[0m\n\u001b[1;32m     38\u001b[0m                         \u001b[0;32mfor\u001b[0m \u001b[0mgame\u001b[0m \u001b[0;32min\u001b[0m \u001b[0mgame_states\u001b[0m\u001b[0;34m[\u001b[0m\u001b[0;36m1\u001b[0m\u001b[0;34m:\u001b[0m\u001b[0;34m]\u001b[0m\u001b[0;34m:\u001b[0m\u001b[0;34m\u001b[0m\u001b[0;34m\u001b[0m\u001b[0m\n",
      "\u001b[0;32m~/Desktop/AI/chess-full-stack/chess_engine/zima_common/engine.py\u001b[0m in \u001b[0;36mmake_state\u001b[0;34m(fen_string, return_legal, player_layer)\u001b[0m\n\u001b[1;32m     38\u001b[0m     \u001b[0mstate\u001b[0m \u001b[0;34m=\u001b[0m \u001b[0mnp\u001b[0m\u001b[0;34m.\u001b[0m\u001b[0mzeros\u001b[0m\u001b[0;34m(\u001b[0m\u001b[0;36m64\u001b[0m\u001b[0;34m,\u001b[0m \u001b[0mnp\u001b[0m\u001b[0;34m.\u001b[0m\u001b[0muint8\u001b[0m\u001b[0;34m)\u001b[0m\u001b[0;34m\u001b[0m\u001b[0;34m\u001b[0m\u001b[0m\n\u001b[1;32m     39\u001b[0m     \u001b[0;32mfor\u001b[0m \u001b[0mi\u001b[0m \u001b[0;32min\u001b[0m \u001b[0mrange\u001b[0m\u001b[0;34m(\u001b[0m\u001b[0;36m64\u001b[0m\u001b[0;34m)\u001b[0m\u001b[0;34m:\u001b[0m\u001b[0;34m\u001b[0m\u001b[0;34m\u001b[0m\u001b[0m\n\u001b[0;32m---> 40\u001b[0;31m         \u001b[0mpp\u001b[0m \u001b[0;34m=\u001b[0m \u001b[0mboard\u001b[0m\u001b[0;34m.\u001b[0m\u001b[0mpiece_at\u001b[0m\u001b[0;34m(\u001b[0m\u001b[0mi\u001b[0m\u001b[0;34m)\u001b[0m\u001b[0;34m\u001b[0m\u001b[0;34m\u001b[0m\u001b[0m\n\u001b[0m\u001b[1;32m     41\u001b[0m         \u001b[0;32mif\u001b[0m \u001b[0mpp\u001b[0m \u001b[0;32mis\u001b[0m \u001b[0;32mnot\u001b[0m \u001b[0;32mNone\u001b[0m\u001b[0;34m:\u001b[0m\u001b[0;34m\u001b[0m\u001b[0;34m\u001b[0m\u001b[0m\n\u001b[1;32m     42\u001b[0m             state[i] = {\"P\": 1, \"N\": 2, \"B\": 3, \"R\": 4, \"Q\": 5, \"K\": 6,\n",
      "\u001b[0;32m/usr/local/lib/python3.7/site-packages/chess/__init__.py\u001b[0m in \u001b[0;36mpiece_at\u001b[0;34m(self, square)\u001b[0m\n\u001b[1;32m    623\u001b[0m             \u001b[0mmask\u001b[0m \u001b[0;34m=\u001b[0m \u001b[0mBB_SQUARES\u001b[0m\u001b[0;34m[\u001b[0m\u001b[0msquare\u001b[0m\u001b[0;34m]\u001b[0m\u001b[0;34m\u001b[0m\u001b[0;34m\u001b[0m\u001b[0m\n\u001b[1;32m    624\u001b[0m             \u001b[0mcolor\u001b[0m \u001b[0;34m=\u001b[0m \u001b[0mbool\u001b[0m\u001b[0;34m(\u001b[0m\u001b[0mself\u001b[0m\u001b[0;34m.\u001b[0m\u001b[0moccupied_co\u001b[0m\u001b[0;34m[\u001b[0m\u001b[0mWHITE\u001b[0m\u001b[0;34m]\u001b[0m \u001b[0;34m&\u001b[0m \u001b[0mmask\u001b[0m\u001b[0;34m)\u001b[0m\u001b[0;34m\u001b[0m\u001b[0;34m\u001b[0m\u001b[0m\n\u001b[0;32m--> 625\u001b[0;31m             \u001b[0;32mreturn\u001b[0m \u001b[0mPiece\u001b[0m\u001b[0;34m(\u001b[0m\u001b[0mpiece_type\u001b[0m\u001b[0;34m,\u001b[0m \u001b[0mcolor\u001b[0m\u001b[0;34m)\u001b[0m\u001b[0;34m\u001b[0m\u001b[0;34m\u001b[0m\u001b[0m\n\u001b[0m\u001b[1;32m    626\u001b[0m         \u001b[0;32melse\u001b[0m\u001b[0;34m:\u001b[0m\u001b[0;34m\u001b[0m\u001b[0;34m\u001b[0m\u001b[0m\n\u001b[1;32m    627\u001b[0m             \u001b[0;32mreturn\u001b[0m \u001b[0;32mNone\u001b[0m\u001b[0;34m\u001b[0m\u001b[0;34m\u001b[0m\u001b[0m\n",
      "\u001b[0;31mKeyboardInterrupt\u001b[0m: "
     ]
    }
   ],
   "source": [
    "def load_data(fpath, ret_len=False):\n",
    "    game_strings = []\n",
    "    this_game = ''\n",
    "    for line_idx, line in enumerate(open(fpath, 'r', encoding='utf-8')):\n",
    "        this_game += line\n",
    "        if line.split() and line.split()[-1] in ['0-1', '1-0', '1/2-1/2']:\n",
    "            game_strings.append(str(this_game))\n",
    "            this_game = ''\n",
    "    if ret_len:\n",
    "        return len(game_strings)\n",
    "    return list(game_strings)\n",
    "\n",
    "def generator_fn(file_paths, gram_size=3):\n",
    "    while True:\n",
    "        for fpath in file_paths:\n",
    "            for game_string in load_data(fpath):\n",
    "                games_buffer = collections.deque()\n",
    "                try:\n",
    "                    game = chess.pgn.read_game(\n",
    "                        io.StringIO(game_string.decode('utf-8')))\n",
    "                except:\n",
    "                    game = chess.pgn.read_game(io.StringIO(game_string))\n",
    "                board = game.board()\n",
    "                game_result = engine.RESULT_VALUE[game.headers['Result']]\n",
    "#                 print('----------> ', game.headers, game_result, len(games_buffer))\n",
    "                player_old = 1\n",
    "                for midx, move in enumerate(game.mainline_moves()):\n",
    "                    if midx == 0:\n",
    "                        games_buffer.appendleft(board.fen())\n",
    "                    if len(games_buffer) == gram_size:\n",
    "                        # return game state as is\n",
    "                        games = list(games_buffer)\n",
    "                        game_states = [engine.make_state(\n",
    "                            game, player_layer=True) for game in games]\n",
    "                        target_state = game_states[0]\n",
    "                        for game in game_states[1:]:\n",
    "                            target_state = np.append(target_state, game, axis=-1)\n",
    "                        yield target_state, float(game_result)\n",
    "                        games_buffer.pop()\n",
    "\n",
    "                    elif len(games_buffer) < gram_size:\n",
    "                        # stack with zeros is the idea\n",
    "                        games = list(games_buffer)\n",
    "                        game_states = [engine.make_state(\n",
    "                            game, player_layer=True) for game in games]\n",
    "                        target_state = game_states[0]\n",
    "                        for game in game_states[1:]:\n",
    "                            target_state = np.append(target_state, game, axis=-1)\n",
    "                        for _ in range(gram_size - len(games_buffer)):\n",
    "                            target_state = np.append(\n",
    "                                target_state, np.zeros(shape=(8, 8, 5)), axis=-1)\n",
    "                        yield target_state, float(game_result)\n",
    "\n",
    "                    # once the current board is returned update the move\n",
    "                    board.push(move)\n",
    "                    games_buffer.appendleft(board.fen())\n",
    "                    game_result *= -1.\n",
    "                \n",
    "def shuffle_buffer(generator_fn, batch_size, buffer_mult = 128):\n",
    "    buffer_memory = []\n",
    "    for gen in generator_fn:\n",
    "        buffer_memory.append(gen)\n",
    "#         print('======', len(buffer_memory))\n",
    "        if len(buffer_memory) > batch_size * buffer_mult:\n",
    "            idx = np.random.randint(len(buffer_memory))\n",
    "            yield buffer_memory[idx:idx+batch_size]\n",
    "            del buffer_memory[idx:idx+batch_size]\n",
    "            \n",
    "\n",
    "def get_batches(file_paths, batch_size, gram_size, , shuffle=False):\n",
    "    batch_state = []\n",
    "    batch_result = []\n",
    "    for gen in enumerate(shuffle_buffer(generator_fn(file_paths, gram_size), buffer_mult * batch_size)):\n",
    "        batch_state.append(gen[0])\n",
    "        batch_result.append(gen[1])\n",
    "        if len(batch_state) == batch_size:\n",
    "            yield batch_state, batch_result\n",
    "                \n",
    "for bidx, (batch_states, batch_results) in enumerate(get_batches(['KB_small.pgn'], 12, 4, 26)):\n",
    "    print(len(batch_states), len(batch_results))\n",
    "    if bidx > 4:\n",
    "        break"
   ]
  },
  {
   "cell_type": "code",
   "execution_count": null,
   "metadata": {},
   "outputs": [],
   "source": []
  },
  {
   "cell_type": "code",
   "execution_count": 256,
   "metadata": {},
   "outputs": [],
   "source": [
    "def load_data(fpath, ret_len=False):\n",
    "    game_strings = []\n",
    "    this_game = ''\n",
    "    for line_idx, line in enumerate(open(fpath, 'r', encoding='utf-8')):\n",
    "        this_game += line\n",
    "        if line.split() and line.split()[-1] in ['0-1', '1-0', '1/2-1/2']:\n",
    "            game_strings.append(str(this_game))\n",
    "            this_game = ''\n",
    "    if ret_len:\n",
    "        return len(game_strings)\n",
    "    return list(game_strings)\n",
    "\n",
    "game = load_data(\"KB_small.pgn\")"
   ]
  },
  {
   "cell_type": "code",
   "execution_count": 259,
   "metadata": {},
   "outputs": [],
   "source": [
    "game1 = read_game(io.StringIO(game[0]))"
   ]
  },
  {
   "cell_type": "code",
   "execution_count": 275,
   "metadata": {},
   "outputs": [
    {
     "name": "stdout",
     "output_type": "stream",
     "text": [
      "1. d4 Nf6 2. Bg5 c5 3. Bxf6 gxf6 4. d5 Qb6 5. Qc1 d6 6. g3 h5 7. h4 Bg4 8. Nd2 Nd7 9. c3 Ne5 10. Qc2 O-O-O 11. a4 a6 12. a5 Qc7 13. f4 Nd7 14. Nc4 e6 15. Bg2 f5 16. Ra3 e5 17. Nh3 Re8 18. O-O exf4 19. Nxf4 Bh6 20. e3 Ne5 21. Nb6+ Kb8 22. Qd2 Rhg8 23. Kh2 Be2 24. Nxe2 Ng4+ 25. Kh1 Rxe3 26. Qc2 Qe7 27. c4 Rxe2 28. Qxf5 Ne3 29. Qxf7 Qxf7 30. Rxf7 Rxg3 31. Bf1 Re1 32. Kh2 Rg8 33. Bh3 Bg7 34. Nd7+ Ka7 35. Rb3 Bd4 36. Rxb7+ Kxb7 37. Nb6+ Kb8 38. Nd7+ Kc8 39. Nf6+ Rg4 40. Rf8+ Kc7 41. Rf7+ Kd8 42. Nxg4 hxg4\n",
      "84\n"
     ]
    }
   ],
   "source": [
    "print(game1.mainline_moves())\n",
    "print(len([*game1.mainline_moves()]))"
   ]
  },
  {
   "cell_type": "code",
   "execution_count": 272,
   "metadata": {},
   "outputs": [
    {
     "name": "stdout",
     "output_type": "stream",
     "text": [
      "[Event \"Karoun Masters Cup 2019\"]\n",
      "[Site \"Ahvaz IRI\"]\n",
      "[Date \"2019.02.25\"]\n",
      "[Round \"6.2\"]\n",
      "[White \"Abbasifar, Hasan\"]\n",
      "[Black \"Grigoryan, Karen H\"]\n",
      "[Result \"0-1\"]\n",
      "[WhiteElo \"2401\"]\n",
      "[BlackElo \"2590\"]\n",
      "[ECO \"A45\"]\n",
      "[EventDate \"2019.02.21\"]\n",
      "\n",
      "1.d4 Nf6 2.Bg5 c5 3.Bxf6 gxf6 4.d5 Qb6 5.Qc1 d6 6.g3 h5 7.h4 Bg4 8.Nd2 Nd7\n",
      "9.c3 Ne5 10.Qc2 O-O-O 11.a4 a6 12.a5 Qc7 13.f4 Nd7 14.Nc4 e6 15.Bg2 f5 16.\n",
      "Ra3 e5 17.Nh3 Re8 18.O-O exf4 19.Nxf4 Bh6 20.e3 Ne5 21.Nb6+ Kb8 22.Qd2 \n",
      "Rhg8 23.Kh2 Be2 24.Nxe2 Ng4+ 25.Kh1 Rxe3 26.Qc2 Qe7 27.c4 Rxe2 28.Qxf5 Ne3\n",
      "29.Qxf7 Qxf7 30.Rxf7 Rxg3 31.Bf1 Re1 32.Kh2 Rg8 33.Bh3 Bg7 34.Nd7+ Ka7 35.\n",
      "Rb3 Bd4 36.Rxb7+ Kxb7 37.Nb6+ Kb8 38.Nd7+ Kc8 39.Nf6+ Rg4 40.Rf8+ Kc7 41.\n",
      "Rf7+ Kd8 42.Nxg4 hxg4 0-1\n",
      "\n"
     ]
    }
   ],
   "source": [
    "print(game[0])"
   ]
  },
  {
   "cell_type": "code",
   "execution_count": null,
   "metadata": {},
   "outputs": [],
   "source": [
    "game"
   ]
  }
 ],
 "metadata": {
  "kernelspec": {
   "display_name": "Python 3",
   "language": "python",
   "name": "python3"
  },
  "language_info": {
   "codemirror_mode": {
    "name": "ipython",
    "version": 3
   },
   "file_extension": ".py",
   "mimetype": "text/x-python",
   "name": "python",
   "nbconvert_exporter": "python",
   "pygments_lexer": "ipython3",
   "version": "3.7.4"
  }
 },
 "nbformat": 4,
 "nbformat_minor": 2
}
